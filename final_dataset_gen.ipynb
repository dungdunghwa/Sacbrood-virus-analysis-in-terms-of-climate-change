{
 "cells": [
  {
   "cell_type": "markdown",
   "metadata": {
    "nteract": {
     "transient": {
      "deleting": false
     }
    }
   },
   "source": [
    "# 최종 모델링용 파일 만들기\n",
    "\n",
    "준비물:\n",
    "df_지역명.csv : 16개 <br>\n",
    "통일_강수산성도.csv<br>\n",
    "통일_온실가스_날짜정리.csv <br>\n",
    "통일_자외선_날짜정리.csv <br>\n",
    "부유분진_지역명.csv <br>\n",
    "종합기상관측_지역명.csv <br>\n",
    "<br>\n",
    "1. x변수들을 2주로 weighted average 정리한다.<br>\n",
    "2. 아직 구분 안된 바이러스데이터를 지역별로 나눈다."
   ]
  },
  {
   "cell_type": "code",
   "execution_count": 1,
   "metadata": {
    "gather": {
     "logged": 1666542695365
    },
    "jupyter": {
     "outputs_hidden": false,
     "source_hidden": false
    },
    "nteract": {
     "transient": {
      "deleting": false
     }
    }
   },
   "outputs": [],
   "source": [
    "import numpy as np\n",
    "import pandas as pd \n",
    "import matplotlib.pyplot as plt"
   ]
  },
  {
   "cell_type": "code",
   "execution_count": 3,
   "metadata": {
    "gather": {
     "logged": 1666542697434
    },
    "jupyter": {
     "outputs_hidden": false,
     "source_hidden": false
    },
    "nteract": {
     "transient": {
      "deleting": false
     }
    }
   },
   "outputs": [],
   "source": [
    "weight=np.arange(14, 0, -1) #1부터 14까지 웨이트를 만든다.\n",
    "sum=np.sum(weight)\n",
    "weight=weight/sum"
   ]
  },
  {
   "cell_type": "code",
   "execution_count": 4,
   "metadata": {
    "gather": {
     "logged": 1666542700365
    },
    "jupyter": {
     "outputs_hidden": false,
     "source_hidden": false
    },
    "nteract": {
     "transient": {
      "deleting": false
     }
    }
   },
   "outputs": [],
   "source": [
    "#전 지역 통일 변수 불러오기\n",
    "acid=pd.read_csv('C:/Users/localadmin/Desktop/data/eda data/common features/acid.csv')\n",
    "gas=pd.read_csv('C:/Users/localadmin/Desktop/data/eda data/common features/gas.csv')\n",
    "utray=pd.read_csv('C:/Users/localadmin/Desktop/data/eda data/common features/utray_new.csv')"
   ]
  },
  {
   "cell_type": "code",
   "execution_count": 5,
   "metadata": {
    "gather": {
     "logged": 1666542702803
    },
    "jupyter": {
     "outputs_hidden": false,
     "source_hidden": false
    },
    "nteract": {
     "transient": {
      "deleting": false
     }
    }
   },
   "outputs": [],
   "source": [
    "#acid 변수이름 바꾸기\n",
    "acid.columns=['unname', 'date', 'value']"
   ]
  },
  {
   "cell_type": "code",
   "execution_count": 6,
   "metadata": {
    "gather": {
     "logged": 1666542705226
    },
    "jupyter": {
     "outputs_hidden": false,
     "source_hidden": false
    },
    "nteract": {
     "transient": {
      "deleting": false
     }
    }
   },
   "outputs": [],
   "source": [
    "#지역별 변수 불러오기\n",
    "#dust\n",
    "dust_ccbuk=pd.read_csv(\"C:/Users/localadmin/Desktop/data/eda data/dust/dust_ccbuk_1.csv\")\n",
    "dust_ccnam=pd.read_csv('C:/Users/localadmin/Desktop/data/eda data/dust/dust_ccnam_1.csv')\n",
    "dust_ggi1=pd.read_csv('C:/Users/localadmin/Desktop/data/eda data/dust/dust_ggi_1.csv')\n",
    "dust_ggi2=pd.read_csv('C:/Users/localadmin/Desktop/data/eda data/dust/dust_ggi_2.csv')\n",
    "dust_ggi3=pd.read_csv('C:/Users/localadmin/Desktop/data/eda data/dust/dust_ggi_3.csv')\n",
    "dust_gsangbuk1=pd.read_csv('C:/Users/localadmin/Desktop/data/eda data/dust/dust_gsangbuk_1.csv')\n",
    "dust_gsangbuk2=pd.read_csv('C:/Users/localadmin/Desktop/data/eda data/dust/dust_gsangbuk_2.csv')\n",
    "dust_gsangnam1=pd.read_csv('C:/Users/localadmin/Desktop/data/eda data//dust/dust_gsangnam_1.csv')\n",
    "dust_gsangnam2=pd.read_csv('C:/Users/localadmin/Desktop/data/eda data/dust/dust_gsangnam_2.csv')\n",
    "dust_gwon1=pd.read_csv('C:/Users/localadmin/Desktop/data/eda data/dust/dust_gwon_1.csv')\n",
    "dust_gwon2=pd.read_csv('C:/Users/localadmin/Desktop/data/eda data/dust/dust_gwon_2.csv')\n",
    "dust_gwon3=pd.read_csv('C:/Users/localadmin/Desktop/data/eda data/dust/dust_gwon_3.csv')\n",
    "dust_jbuk=pd.read_csv('C:/Users/localadmin/Desktop/data/eda data/dust/dust_jbuk_1.csv')\n",
    "dust_jeju=pd.read_csv('C:/Users/localadmin/Desktop/data/eda data/dust/dust_jeju_1.csv')\n",
    "dust_jnam1=pd.read_csv('C:/Users/localadmin/Desktop/data/eda data/dust/dust_jnam_1.csv')\n",
    "dust_jnam2=pd.read_csv('C:/Users/localadmin/Desktop/data/eda data/dust/dust_jnam_2.csv')"
   ]
  },
  {
   "cell_type": "code",
   "execution_count": 7,
   "metadata": {
    "gather": {
     "logged": 1666542708187
    },
    "jupyter": {
     "outputs_hidden": false,
     "source_hidden": false
    },
    "nteract": {
     "transient": {
      "deleting": false
     }
    }
   },
   "outputs": [],
   "source": [
    "#지역별 변수 불러오기\n",
    "#overall\n",
    "overall_ccbuk=pd.read_csv(\"C:/Users/localadmin/Desktop/data/eda data/overall/overall_ccbuk_1.csv\")\n",
    "overall_ccnam=pd.read_csv('C:/Users/localadmin/Desktop/data/eda data/overall/overall_ccnam_1.csv')\n",
    "overall_ggi1=pd.read_csv('C:/Users/localadmin/Desktop/data/eda data/overall/overall_ggi_1.csv')\n",
    "overall_ggi2=pd.read_csv('C:/Users/localadmin/Desktop/data/eda data/overall/overall_ggi_2.csv')\n",
    "overall_ggi3=pd.read_csv('C:/Users/localadmin/Desktop/data/eda data/overall/overall_ggi_3.csv')\n",
    "overall_gsangbuk1=pd.read_csv('C:/Users/localadmin/Desktop/data/eda data/overall/overall_gsangbuk_1.csv')\n",
    "overall_gsangbuk2=pd.read_csv('C:/Users/localadmin/Desktop/data/eda data/overall/overall_gsangbuk_2.csv')\n",
    "overall_gsangnam1=pd.read_csv('C:/Users/localadmin/Desktop/data/eda data/overall/overall_gsangnam_1.csv')\n",
    "overall_gsangnam2=pd.read_csv('C:/Users/localadmin/Desktop/data/eda data/overall/overall_gsangnam_2.csv')\n",
    "overall_gwon1=pd.read_csv('C:/Users/localadmin/Desktop/data/eda data/overall/overall_gwon_1.csv')\n",
    "overall_gwon2=pd.read_csv('C:/Users/localadmin/Desktop/data/eda data/overall/overall_gwon_2.csv')\n",
    "overall_gwon3=pd.read_csv('C:/Users/localadmin/Desktop/data/eda data/overall/overall_gwon_3.csv')\n",
    "overall_jbuk=pd.read_csv('C:/Users/localadmin/Desktop/data/eda data/overall/overall_jbuk_1.csv')\n",
    "overall_jeju=pd.read_csv('C:/Users/localadmin/Desktop/data/eda data/overall/overall_jeju_1.csv')\n",
    "overall_jnam1=pd.read_csv('C:/Users/localadmin/Desktop/data/eda data/overall/overall_jnam_1.csv')\n",
    "overall_jnam2=pd.read_csv('C:/Users/localadmin/Desktop/data/eda data/overall/overall_jnam_2.csv')"
   ]
  },
  {
   "cell_type": "code",
   "execution_count": 8,
   "metadata": {
    "gather": {
     "logged": 1666542711345
    },
    "jupyter": {
     "outputs_hidden": false,
     "source_hidden": false
    },
    "nteract": {
     "transient": {
      "deleting": false
     }
    }
   },
   "outputs": [],
   "source": [
    "#함수화\n",
    "def weighted_x_gen(acid_df, gas_df, utray_df, dust_df, overall_df, weight, until=1576):\n",
    "    df_new=pd.DataFrame({'acid':acid.value, \n",
    "                    'co_2':gas_df.CO_2, 'ch_4': gas_df.CH_4, 'n_20': gas_df.N_20,\n",
    "                    'utray': utray.utrayB, \n",
    "                    'dust': dust_df.dustperday[:until], #2021년 12월 31일까지만 \n",
    "                    'avg_temp': overall_df.avg_temp[:until], 'low_temp': overall_df.low_temp[:until], \n",
    "                    'high_temp':overall_df.high_temp[:until], \n",
    "                    'rain_lasting': overall_df.rain_lasting[:until], 'max_rain_hour': overall_df.max_rain_hour[:until], \n",
    "                    'day_rain': overall_df.day_rain[:until],\n",
    "                    'avg_wind': overall_df.avg_wind[:until], 'avg_hum': overall_df.avg_hum[:until], \n",
    "                    'min_hum': overall_df.min_hum[:until],\n",
    "                    'tot_hour_sun': overall_df.tot_hour_sun[:until], \n",
    "                    'avg_bottom_temp':overall_df.avg_bottom_temp[:until]})\n",
    "    voll=pd.DataFrame(np.zeros((df_new.shape[0]-14, df_new.shape[1])), columns=df_new.columns)\n",
    "    for i in range(0, df_new.shape[0]-14):\n",
    "        xx=df_new.iloc[i:i+14].transpose()*weight\n",
    "        voll.iloc[i]=np.sum(xx.transpose())\n",
    "    return voll"
   ]
  },
  {
   "cell_type": "markdown",
   "metadata": {
    "nteract": {
     "transient": {
      "deleting": false
     }
    }
   },
   "source": [
    "# 지역별 파일 만들기"
   ]
  },
  {
   "cell_type": "code",
   "execution_count": 10,
   "metadata": {
    "gather": {
     "logged": 1666542720196
    },
    "jupyter": {
     "outputs_hidden": false,
     "source_hidden": false
    },
    "nteract": {
     "transient": {
      "deleting": false
     }
    }
   },
   "outputs": [],
   "source": [
    "#2017년 9월 22일부터 2021년 12월 31일까지의 지역별 x 데이터 최종 완성, 시간 인덱스는 제거(시계열 말고 독립이라고 가정)\n",
    "gwon1_x=weighted_x_gen(acid, gas, utray, dust_gwon1, overall_gwon1, weight)\n",
    "gwon2_x=weighted_x_gen(acid, gas, utray, dust_gwon2, overall_gwon2, weight)\n",
    "gwon3_x=weighted_x_gen(acid, gas, utray, dust_gwon3, overall_gwon3, weight)\n",
    "\n",
    "ggi1_x=weighted_x_gen(acid, gas, utray, dust_ggi1, overall_ggi1, weight)\n",
    "ggi2_x=weighted_x_gen(acid, gas, utray, dust_ggi2, overall_ggi2, weight)\n",
    "ggi3_x=weighted_x_gen(acid, gas, utray, dust_ggi3, overall_ggi3, weight)\n",
    "\n",
    "gsangnam1_x=weighted_x_gen(acid, gas, utray, dust_gsangnam1, overall_gsangnam1, weight)\n",
    "gsangnam2_x=weighted_x_gen(acid, gas, utray, dust_gsangnam2, overall_gsangnam2, weight)\n",
    "\n",
    "gsangbuk1_x=weighted_x_gen(acid, gas, utray, dust_gsangbuk1, overall_gsangbuk1, weight)\n",
    "gsangbuk2_x=weighted_x_gen(acid, gas, utray, dust_gsangbuk2, overall_gsangbuk2, weight)\n",
    "\n",
    "jnam1_x=weighted_x_gen(acid, gas, utray, dust_jnam1, overall_jnam1, weight)\n",
    "jnam2_x=weighted_x_gen(acid, gas, utray, dust_jnam2, overall_jnam2, weight)\n",
    "\n",
    "jbuk_x=weighted_x_gen(acid, gas, utray, dust_jbuk, overall_jbuk, weight)\n",
    "\n",
    "ccnam_x=weighted_x_gen(acid, gas, utray, dust_ccnam, overall_ccnam, weight)\n",
    "\n",
    "ccbuk_x=weighted_x_gen(acid, gas, utray, dust_ccbuk, overall_ccbuk, weight)\n",
    "\n",
    "jeju_x=weighted_x_gen(acid, gas, utray, dust_jeju, overall_jeju, weight)"
   ]
  },
  {
   "cell_type": "markdown",
   "metadata": {
    "nteract": {
     "transient": {
      "deleting": false
     }
    }
   },
   "source": [
    "# 최종 지역 분류 (16개)\n",
    "* **강원도**\n",
    "- 삼척시, 강릉시, 동해시, 정선군, 태백시 : 강원1\n",
    "- 홍천군, 인제군, 평창군, 횡성군, 원주시 : 강원2\n",
    "- 화천군, 양구군, 춘천시 : 강원3\n",
    " <br>\n",
    "\n",
    "* **경기도**\n",
    "- 양평군, 가평군, 남양주시 : 경기1\n",
    "- 이천시, 안성시, 여주시, 성남시 : 경기2\n",
    "- 고양시, 연천군, 파주시 : 경기3\n",
    "<br>\n",
    "* **경상남도**\n",
    "- 산청군, 진주시, 합천군, 하동군, 의령군, 함양군, 거창군:경남1\n",
    "- 창원시, 함안군, 김해시:경남2 \n",
    "<br>\n",
    "* **경상북도**\n",
    "- 영덕군, 김천시, 문경시, 상주시, 영주시, 청송군, 봉화군, 안동시, 의성군, 영천시, 영양군, 예천군: 경북1\n",
    "- 포항시, 경주시: 경북2 \n",
    "<br>\n",
    "* **전라남도**\n",
    "- 보성군, 순천시, 곡성군, 구례군, 화순군, 고흥군, 광양시, 함평군: 전남1\n",
    "- 완도군: 전남2\n",
    "<br>\n",
    "* **전라북도**(임실군, 남원시 중심)\n",
    "- 전체를 하나로 본다.\n",
    "<br>\n",
    "* **충청남도**(천안시 중심)\n",
    "- 하나로 본다.\n",
    "<br>\n",
    "* **충청북도** (충추시 중심)\n",
    "- 하나로 본다. \n",
    "<br>\n",
    "* **제주특별자치시**-하나로 본다.\n",
    "<br>\n",
    "* 부산광역시, 대구광역시, 인천광역시, 울산광역시, 광주광역시, 세종과 대전은 관측치가 너무 적어서 분석에서 제외한다.\n",
    " "
   ]
  },
  {
   "cell_type": "code",
   "execution_count": 11,
   "metadata": {
    "gather": {
     "logged": 1666542725402
    },
    "jupyter": {
     "outputs_hidden": false,
     "source_hidden": false
    },
    "nteract": {
     "transient": {
      "deleting": false
     }
    }
   },
   "outputs": [],
   "source": [
    "#Y데이터 지역 기준에 따라 한 컬럼으로 다시 만들기\n",
    "gwon=pd.read_csv(\"C:/Users/localadmin/Desktop/data/eda data/df_gwon.csv\")\n",
    "gwon1_y=gwon[['강원도.삼척시', '강원도.강릉시', '강원도.동해시', '강원도.정선군', '강원도.태백시']][:1562].sum(axis=1) #2017년 9월 22일부터 2021년 12월 31일까지\n",
    "gwon2_y=gwon[['강원도.홍천군', '강원도.인제군', '강원도.평창군', '강원도.횡성군', '강원도.원주시']][:1562].sum(axis=1)\n",
    "gwon3_y=gwon[['강원도.화천군', '강원도.양구군', '강원도.춘천시']][:1562].sum(axis=1)\n",
    "\n",
    "ggi=pd.read_csv(\"C:/Users/localadmin/Desktop/data/eda data/df_ggi.csv\")\n",
    "ggi1_y=ggi[['경기도.양평군', '경기도.가평군', '경기도.남양주시']][:1562].sum(axis=1) #2017년 9월 22일부터 2021년 12월 31일까지\n",
    "ggi2_y=ggi[['경기도.이천시', '경기도.안성시', '경기도.여주시', '경기도.성남시']][:1562].sum(axis=1)\n",
    "ggi3_y=ggi[['경기도.고양시', '경기도.연천군', '경기도.파주시']][:1562].sum(axis=1)\n",
    "\n",
    "gsangnam=pd.read_csv(\"C:/Users/localadmin/Desktop/data/eda data/df_gsangnam.csv\")\n",
    "gsangnam1_y=gsangnam[['경상남도.산청군', '경상남도.진주시', '경상남도.합천군', '경상남도.하동군', '경상남도.의령군',\n",
    "                      '경상남도.함양군', '경상남도.거창군']][:1562].sum(axis=1) #2017년 9월 22일부터 2021년 12월 31일까지\n",
    "gsangnam2_y=gsangnam[['경상남도.창원시', '경상남도.함안군', '경상남도.김해시']][:1562].sum(axis=1)\n",
    "\n",
    "gsangbuk=pd.read_csv(\"C:/Users/localadmin/Desktop/data/eda data/df_gsangbuk.csv\")\n",
    "gsangbuk1_y=gsangbuk[['경상북도.영덕군', '경상북도.김천시', '경상북도.문경시', '경상북도.상주시', '경상북도.영주시',\n",
    "                      '경상북도.청송군', '경상북도.봉화군', '경상북도.안동시', '경상북도.의성군', '경상북도.영천시', \n",
    "                      '경상북도.영양군', '경상북도.예천군']][:1562].sum(axis=1) #2017년 9월 22일부터 2021년 12월 31일까지\n",
    "gsangbuk2_y=gsangbuk[['경상북도.포항시', '경상북도.경주시']][:1562].sum(axis=1)\n",
    "\n",
    "jnam=pd.read_csv(\"C:/Users/localadmin/Desktop/data/eda data/df_jnam.csv\")\n",
    "jnam1_y=jnam[['전라남도.보성군', '전라남도.순천시', '전라남도.곡성군', '전라남도.구례군', '전라남도.화순군', '전라남도.고흥군', \n",
    "              '전라남도.광양시', '전라남도.함평군']][:1562].sum(axis=1) #2017년 9월 22일부터 2021년 12월 31일까지\n",
    "jnam2_y=jnam[['전라남도.완도군']][:1562].sum(axis=1)\n",
    "\n",
    "jbuk=pd.read_csv(\"C:/Users/localadmin/Desktop/data/eda data/df_jbuk.csv\")\n",
    "jbuk_y=jbuk[['전라북도.고창군', '전라북도.군산시', '전라북도.남원시', '전라북도.무주군',\n",
    "       '전라북도.부안군', '전라북도.완주군', '전라북도.임실군', '전라북도.장수군', '전라북도.전주시', '전라북도.정읍시',\n",
    "       '전라북도.진안군']][:1562].sum(axis=1) #2017년 9월 22일부터 2021년 12월 31일까지\n",
    "\n",
    "ccnam=pd.read_csv(\"C:/Users/localadmin/Desktop/data/eda data/df_ccnam.csv\")\n",
    "ccnam_y=ccnam[['충청남도.계룡시', '충청남도.공주시', '충청남도.금산군', '충청남도.당진시','충청남도.부여군', \n",
    "               '충청남도.서산시', '충청남도.서천군', '충청남도.아산시', '충청남도.천안시', '충청남도.청양군']][:1562].sum(axis=1) #2017년 9월 22일부터 2021년 12월 31일까지\n",
    "\n",
    "ccbuk=pd.read_csv(\"C:/Users/localadmin/Desktop/data/eda data/df_ccbuk.csv\")\n",
    "ccbuk_y=ccbuk[['충청북도.괴산군', '충청북도.단양군', '충청북도.보은군', '충청북도.영동군',\n",
    "       '충청북도.옥천군', '충청북도.음성군', '충청북도.제천시', '충청북도.증평군', '충청북도.진천군', '충청북도.청주시',\n",
    "       '충청북도.충주시']][:1562].sum(axis=1) #2017년 9월 22일부터 2021년 12월 31일까지\n",
    "\n",
    "jeju=pd.read_csv(\"C:/Users/localadmin/Desktop/data/eda data/df_jeju.csv\")\n",
    "jeju_y=jeju[['제주특별자치도.서귀포시', '제주특별자치도.제주시']][:1562].sum(axis=1) #2017년 9월 22일부터 2021년 12월 31일까지"
   ]
  },
  {
   "cell_type": "code",
   "execution_count": 12,
   "metadata": {},
   "outputs": [
    {
     "data": {
      "text/plain": [
       "(1562, 17)"
      ]
     },
     "execution_count": 12,
     "metadata": {},
     "output_type": "execute_result"
    }
   ],
   "source": [
    "gwon1_x.shape"
   ]
  },
  {
   "cell_type": "code",
   "execution_count": 13,
   "metadata": {},
   "outputs": [
    {
     "data": {
      "text/html": [
       "<div>\n",
       "<style scoped>\n",
       "    .dataframe tbody tr th:only-of-type {\n",
       "        vertical-align: middle;\n",
       "    }\n",
       "\n",
       "    .dataframe tbody tr th {\n",
       "        vertical-align: top;\n",
       "    }\n",
       "\n",
       "    .dataframe thead th {\n",
       "        text-align: right;\n",
       "    }\n",
       "</style>\n",
       "<table border=\"1\" class=\"dataframe\">\n",
       "  <thead>\n",
       "    <tr style=\"text-align: right;\">\n",
       "      <th></th>\n",
       "      <th>acid</th>\n",
       "      <th>co_2</th>\n",
       "      <th>ch_4</th>\n",
       "      <th>n_20</th>\n",
       "      <th>utray</th>\n",
       "      <th>dust</th>\n",
       "      <th>avg_temp</th>\n",
       "      <th>low_temp</th>\n",
       "      <th>high_temp</th>\n",
       "      <th>rain_lasting</th>\n",
       "      <th>max_rain_hour</th>\n",
       "      <th>day_rain</th>\n",
       "      <th>avg_wind</th>\n",
       "      <th>avg_hum</th>\n",
       "      <th>min_hum</th>\n",
       "      <th>tot_hour_sun</th>\n",
       "      <th>avg_bottom_temp</th>\n",
       "    </tr>\n",
       "  </thead>\n",
       "  <tbody>\n",
       "    <tr>\n",
       "      <th>0</th>\n",
       "      <td>0.588571</td>\n",
       "      <td>405.070563</td>\n",
       "      <td>1982.946597</td>\n",
       "      <td>332.478955</td>\n",
       "      <td>0.158057</td>\n",
       "      <td>19.022977</td>\n",
       "      <td>19.896429</td>\n",
       "      <td>15.694762</td>\n",
       "      <td>25.065952</td>\n",
       "      <td>0.0</td>\n",
       "      <td>0.799524</td>\n",
       "      <td>2.319286</td>\n",
       "      <td>1.647381</td>\n",
       "      <td>75.175714</td>\n",
       "      <td>49.542857</td>\n",
       "      <td>6.371190</td>\n",
       "      <td>22.512381</td>\n",
       "    </tr>\n",
       "    <tr>\n",
       "      <th>1</th>\n",
       "      <td>0.637619</td>\n",
       "      <td>404.214856</td>\n",
       "      <td>1981.480134</td>\n",
       "      <td>332.220217</td>\n",
       "      <td>0.158933</td>\n",
       "      <td>18.058049</td>\n",
       "      <td>19.524524</td>\n",
       "      <td>15.419048</td>\n",
       "      <td>24.444286</td>\n",
       "      <td>0.0</td>\n",
       "      <td>0.929762</td>\n",
       "      <td>2.616190</td>\n",
       "      <td>1.681429</td>\n",
       "      <td>75.315714</td>\n",
       "      <td>50.523810</td>\n",
       "      <td>6.026429</td>\n",
       "      <td>22.008810</td>\n",
       "    </tr>\n",
       "    <tr>\n",
       "      <th>2</th>\n",
       "      <td>0.686667</td>\n",
       "      <td>403.666659</td>\n",
       "      <td>1980.527475</td>\n",
       "      <td>331.945288</td>\n",
       "      <td>0.164448</td>\n",
       "      <td>17.035978</td>\n",
       "      <td>19.130476</td>\n",
       "      <td>15.054286</td>\n",
       "      <td>23.828333</td>\n",
       "      <td>0.0</td>\n",
       "      <td>1.060000</td>\n",
       "      <td>2.913095</td>\n",
       "      <td>1.740000</td>\n",
       "      <td>75.502381</td>\n",
       "      <td>51.933333</td>\n",
       "      <td>5.684524</td>\n",
       "      <td>21.534048</td>\n",
       "    </tr>\n",
       "    <tr>\n",
       "      <th>3</th>\n",
       "      <td>0.000000</td>\n",
       "      <td>403.276599</td>\n",
       "      <td>1979.803020</td>\n",
       "      <td>331.787619</td>\n",
       "      <td>0.173381</td>\n",
       "      <td>16.047240</td>\n",
       "      <td>18.828095</td>\n",
       "      <td>14.670952</td>\n",
       "      <td>23.688810</td>\n",
       "      <td>0.0</td>\n",
       "      <td>1.190238</td>\n",
       "      <td>3.210000</td>\n",
       "      <td>1.827143</td>\n",
       "      <td>74.142381</td>\n",
       "      <td>49.754762</td>\n",
       "      <td>6.230714</td>\n",
       "      <td>21.263810</td>\n",
       "    </tr>\n",
       "    <tr>\n",
       "      <th>4</th>\n",
       "      <td>0.000000</td>\n",
       "      <td>403.481822</td>\n",
       "      <td>1980.111903</td>\n",
       "      <td>331.688571</td>\n",
       "      <td>0.179838</td>\n",
       "      <td>16.996597</td>\n",
       "      <td>18.934524</td>\n",
       "      <td>14.417619</td>\n",
       "      <td>24.222143</td>\n",
       "      <td>0.0</td>\n",
       "      <td>0.591905</td>\n",
       "      <td>1.014048</td>\n",
       "      <td>1.884286</td>\n",
       "      <td>71.670714</td>\n",
       "      <td>45.371429</td>\n",
       "      <td>7.221905</td>\n",
       "      <td>21.480952</td>\n",
       "    </tr>\n",
       "  </tbody>\n",
       "</table>\n",
       "</div>"
      ],
      "text/plain": [
       "       acid        co_2         ch_4        n_20     utray       dust  \\\n",
       "0  0.588571  405.070563  1982.946597  332.478955  0.158057  19.022977   \n",
       "1  0.637619  404.214856  1981.480134  332.220217  0.158933  18.058049   \n",
       "2  0.686667  403.666659  1980.527475  331.945288  0.164448  17.035978   \n",
       "3  0.000000  403.276599  1979.803020  331.787619  0.173381  16.047240   \n",
       "4  0.000000  403.481822  1980.111903  331.688571  0.179838  16.996597   \n",
       "\n",
       "    avg_temp   low_temp  high_temp  rain_lasting  max_rain_hour  day_rain  \\\n",
       "0  19.896429  15.694762  25.065952           0.0       0.799524  2.319286   \n",
       "1  19.524524  15.419048  24.444286           0.0       0.929762  2.616190   \n",
       "2  19.130476  15.054286  23.828333           0.0       1.060000  2.913095   \n",
       "3  18.828095  14.670952  23.688810           0.0       1.190238  3.210000   \n",
       "4  18.934524  14.417619  24.222143           0.0       0.591905  1.014048   \n",
       "\n",
       "   avg_wind    avg_hum    min_hum  tot_hour_sun  avg_bottom_temp  \n",
       "0  1.647381  75.175714  49.542857      6.371190        22.512381  \n",
       "1  1.681429  75.315714  50.523810      6.026429        22.008810  \n",
       "2  1.740000  75.502381  51.933333      5.684524        21.534048  \n",
       "3  1.827143  74.142381  49.754762      6.230714        21.263810  \n",
       "4  1.884286  71.670714  45.371429      7.221905        21.480952  "
      ]
     },
     "execution_count": 13,
     "metadata": {},
     "output_type": "execute_result"
    }
   ],
   "source": [
    "gwon1_x.head()"
   ]
  },
  {
   "cell_type": "code",
   "execution_count": 14,
   "metadata": {},
   "outputs": [
    {
     "data": {
      "text/plain": [
       "1562"
      ]
     },
     "execution_count": 14,
     "metadata": {},
     "output_type": "execute_result"
    }
   ],
   "source": [
    "len(ggi3_y)"
   ]
  },
  {
   "cell_type": "code",
   "execution_count": 15,
   "metadata": {
    "gather": {
     "logged": 1666542743222
    },
    "jupyter": {
     "outputs_hidden": false,
     "source_hidden": false
    },
    "nteract": {
     "transient": {
      "deleting": false
     }
    }
   },
   "outputs": [],
   "source": [
    "gwon1_y.to_csv('C:/Users/localadmin/Desktop/data/modeling data/res/gwon1_y.csv')\n",
    "gwon2_y.to_csv('C:/Users/localadmin/Desktop/data/modeling data/res/gwon2_y.csv')\n",
    "gwon3_y.to_csv('C:/Users/localadmin/Desktop/data/modeling data/res/gwon3_y.csv')\n",
    "\n",
    "ggi1_y.to_csv('C:/Users/localadmin/Desktop/data/modeling data/res/ggi1_y.csv')\n",
    "ggi2_y.to_csv('C:/Users/localadmin/Desktop/data/modeling data/res/ggi2_y.csv')\n",
    "ggi3_y.to_csv('C:/Users/localadmin/Desktop/data/modeling data/res/ggi3_y.csv')\n",
    "\n",
    "gsangnam1_y.to_csv('C:/Users/localadmin/Desktop/data/modeling data/res/gsangnam1_y.csv')\n",
    "gsangnam2_y.to_csv('C:/Users/localadmin/Desktop/data/modeling data/res/gsangnam2_y.csv')\n",
    "\n",
    "gsangbuk1_y.to_csv('C:/Users/localadmin/Desktop/data/modeling data/res/gsangbuk1_y.csv')\n",
    "gsangbuk2_y.to_csv('C:/Users/localadmin/Desktop/data/modeling data/res/gsangbuk2_y.csv')\n",
    "\n",
    "jnam1_y.to_csv('C:/Users/localadmin/Desktop/data/modeling data/res/jnam1_y.csv')\n",
    "jnam2_y.to_csv('C:/Users/localadmin/Desktop/data/modeling data/res/jnam2_y.csv')\n",
    "\n",
    "jbuk_y.to_csv('C:/Users/localadmin/Desktop/data/modeling data/res/jbuk_y.csv')\n",
    "\n",
    "ccnam_y.to_csv('C:/Users/localadmin/Desktop/data/modeling data/res/ccnam_y.csv')\n",
    "\n",
    "ccbuk_y.to_csv('C:/Users/localadmin/Desktop/data/modeling data/res/ccbuk_y.csv')\n",
    "\n",
    "jeju_y.to_csv('C:/Users/localadmin/Desktop/data/modeling data/res/jeju_y.csv')"
   ]
  },
  {
   "cell_type": "code",
   "execution_count": 15,
   "metadata": {},
   "outputs": [],
   "source": [
    "gwon1_x.to_csv('C:/Users/localadmin/Desktop/data/modeling data/exp/gwon1_x.csv')\n",
    "gwon2_x.to_csv('C:/Users/localadmin/Desktop/data/modeling data/exp/gwon2_x.csv')\n",
    "gwon3_x.to_csv('C:/Users/localadmin/Desktop/data/modeling data/exp/gwon3_x.csv')\n",
    "\n",
    "ggi1_x.to_csv('C:/Users/localadmin/Desktop/data/modeling data/exp/ggi1_x.csv')\n",
    "ggi2_x.to_csv('C:/Users/localadmin/Desktop/data/modeling data/exp/ggi2_x.csv')\n",
    "ggi3_x.to_csv('C:/Users/localadmin/Desktop/data/modeling data/exp/ggi3_x.csv')\n",
    "\n",
    "gsangnam1_x.to_csv('C:/Users/localadmin/Desktop/data/modeling data/exp/gsangnam1_x.csv')\n",
    "gsangnam2_x.to_csv('C:/Users/localadmin/Desktop/data/modeling data/exp/gsangnam2_x.csv')\n",
    "\n",
    "gsangbuk1_x.to_csv('C:/Users/localadmin/Desktop/data/modeling data/exp/gsangbuk1_x.csv')\n",
    "gsangbuk2_x.to_csv('C:/Users/localadmin/Desktop/data/modeling data/exp/gsangbuk2_x.csv')\n",
    "\n",
    "jnam1_x.to_csv('C:/Users/localadmin/Desktop/data/modeling data/exp/jnam1_x.csv')\n",
    "jnam2_x.to_csv('C:/Users/localadmin/Desktop/data/modeling data/exp/jnam2_x.csv')\n",
    "\n",
    "jbuk_x.to_csv('C:/Users/localadmin/Desktop/data/modeling data/exp/jbuk_x.csv')\n",
    "\n",
    "ccnam_x.to_csv('C:/Users/localadmin/Desktop/data/modeling data/exp/ccnam_x.csv')\n",
    "\n",
    "ccbuk_x.to_csv('C:/Users/localadmin/Desktop/data/modeling data/exp/ccbuk_x.csv')\n",
    "\n",
    "jeju_x.to_csv('C:/Users/localadmin/Desktop/data/modeling data/exp/jeju_x.csv')"
   ]
  },
  {
   "cell_type": "markdown",
   "metadata": {},
   "source": [
    "## 끝"
   ]
  }
 ],
 "metadata": {
  "kernel_info": {
   "name": "python38-azureml"
  },
  "kernelspec": {
   "display_name": "Python 3 (ipykernel)",
   "language": "python",
   "name": "python3"
  },
  "language_info": {
   "codemirror_mode": {
    "name": "ipython",
    "version": 3
   },
   "file_extension": ".py",
   "mimetype": "text/x-python",
   "name": "python",
   "nbconvert_exporter": "python",
   "pygments_lexer": "ipython3",
   "version": "3.9.13"
  },
  "microsoft": {
   "host": {
    "AzureML": {
     "notebookHasBeenCompleted": true
    }
   }
  },
  "nteract": {
   "version": "nteract-front-end@1.0.0"
  }
 },
 "nbformat": 4,
 "nbformat_minor": 4
}
