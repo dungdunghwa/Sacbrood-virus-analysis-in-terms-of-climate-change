{
 "cells": [
  {
   "cell_type": "code",
   "execution_count": 1,
   "metadata": {
    "gather": {
     "logged": 1665853133318
    }
   },
   "outputs": [],
   "source": [
    "import pandas as pd\n",
    "import numpy as np\n",
    "import matplotlib.pyplot as plt\n",
    "import datetime as dt\n",
    "from datetime import datetime\n",
    "from datetime import timedelta\n",
    "\n",
    "virus=pd.read_csv(\"C:/Users/localadmin/Desktop/data/raw data/virus_utf8_final.csv\")"
   ]
  },
  {
   "cell_type": "code",
   "execution_count": 2,
   "metadata": {
    "gather": {
     "logged": 1665835812768
    },
    "jupyter": {
     "outputs_hidden": false,
     "source_hidden": false
    },
    "nteract": {
     "transient": {
      "deleting": false
     }
    }
   },
   "outputs": [
    {
     "name": "stdout",
     "output_type": "stream",
     "text": [
      "(1834, 9)\n",
      "Index(['Unnamed: 0', 'virus', 'farmer', 'location', 'date', 'species', 'num',\n",
      "       'institution', 'etc'],\n",
      "      dtype='object')\n"
     ]
    }
   ],
   "source": [
    "print(virus.shape)\n",
    "print(virus.columns)\n",
    "virus=virus.iloc[:virus.shape[0]-3, 3:virus.shape[1]-1] #deleting first three columns and last 'etc' column"
   ]
  },
  {
   "cell_type": "code",
   "execution_count": 3,
   "metadata": {
    "gather": {
     "logged": 1665834005786
    },
    "jupyter": {
     "outputs_hidden": false,
     "source_hidden": false
    },
    "nteract": {
     "transient": {
      "deleting": false
     }
    }
   },
   "outputs": [
    {
     "data": {
      "text/plain": [
       "location       object\n",
       "date           object\n",
       "species        object\n",
       "num             int64\n",
       "institution    object\n",
       "dtype: object"
      ]
     },
     "execution_count": 3,
     "metadata": {},
     "output_type": "execute_result"
    }
   ],
   "source": [
    "virus.dtypes"
   ]
  },
  {
   "cell_type": "code",
   "execution_count": 4,
   "metadata": {
    "gather": {
     "logged": 1665835821993
    },
    "jupyter": {
     "outputs_hidden": true,
     "source_hidden": false
    },
    "nteract": {
     "transient": {
      "deleting": false
     }
    }
   },
   "outputs": [],
   "source": [
    "str(virus.date[0]).split() #괄호 안은 진단일이고 괄호밖은 발생일이다.\n",
    "diag=[]\n",
    "datenew=[]\n",
    "for i in range(0, virus.shape[0]):\n",
    "    a=dt.datetime.strptime(str(virus.date[i]).split()[1][1:11], '%Y-%m-%d')\n",
    "    diag.append(a.date())\n",
    "    b=dt.datetime.strptime(str(virus.date[i]).split()[0], '%Y-%m-%d')\n",
    "    datenew.append(b.date())\n",
    "virus['diag']=diag\n",
    "virus['date']=datenew"
   ]
  },
  {
   "cell_type": "code",
   "execution_count": 5,
   "metadata": {
    "gather": {
     "logged": 1665835825735
    },
    "jupyter": {
     "outputs_hidden": false,
     "source_hidden": false
    },
    "nteract": {
     "transient": {
      "deleting": false
     }
    }
   },
   "outputs": [
    {
     "data": {
      "text/plain": [
       "18"
      ]
     },
     "execution_count": 5,
     "metadata": {},
     "output_type": "execute_result"
    }
   ],
   "source": [
    "virus_bydate=virus.loc[:, 'num'].groupby(virus.date).count()\n",
    "max(virus_bydate)"
   ]
  },
  {
   "cell_type": "code",
   "execution_count": 6,
   "metadata": {
    "gather": {
     "logged": 1665835830353
    },
    "jupyter": {
     "outputs_hidden": false,
     "source_hidden": false
    },
    "nteract": {
     "transient": {
      "deleting": false
     }
    }
   },
   "outputs": [
    {
     "data": {
      "text/plain": [
       "datetime.date(2019, 4, 30)"
      ]
     },
     "execution_count": 6,
     "metadata": {},
     "output_type": "execute_result"
    }
   ],
   "source": [
    "virus_bydate.index[np.argmax(virus_bydate)]"
   ]
  },
  {
   "cell_type": "code",
   "execution_count": 7,
   "metadata": {
    "gather": {
     "logged": 1665836822781
    },
    "jupyter": {
     "outputs_hidden": false,
     "source_hidden": false
    },
    "nteract": {
     "transient": {
      "deleting": false
     }
    }
   },
   "outputs": [
    {
     "name": "stdout",
     "output_type": "stream",
     "text": [
      "1850 \n",
      " <class 'list'> \n",
      " [datetime.date(2017, 9, 22), datetime.date(2017, 9, 23)]\n",
      "5.1 년동안 낭충봉아부패병 발병 비율은  38.1 % 이다.\n"
     ]
    }
   ],
   "source": [
    "#전체날짜 입력받기\n",
    "def date_gen(stt, end):\n",
    "    from datetime import datetime\n",
    "    from datetime import timedelta\n",
    "\n",
    "    dates=[(stt + timedelta(days=i)) for i in range((end-stt).days+1)]\n",
    "    return dates\n",
    "\n",
    "day_stt=datetime.strptime(\"2017-09-22\", '%Y-%m-%d')\n",
    "day_end=datetime.strptime(\"2022-10-15\", '%Y-%m-%d')\n",
    "day_stt=day_stt.date()\n",
    "day_end=day_end.date()\n",
    "dates=date_gen(day_stt, day_end)\n",
    "print(len(dates), \"\\n\", type(dates), '\\n', dates[0:2])\n",
    "len(virus_bydate)\n",
    "print(round(len(dates)/365, 1), \"년동안 낭충봉아부패병 발병 비율은 \", round((len(virus_bydate)/len(dates))*100,1), \"% 이다.\")"
   ]
  },
  {
   "cell_type": "code",
   "execution_count": 8,
   "metadata": {
    "gather": {
     "logged": 1665835834750
    },
    "jupyter": {
     "outputs_hidden": false,
     "source_hidden": false
    },
    "nteract": {
     "transient": {
      "deleting": false
     }
    }
   },
   "outputs": [
    {
     "data": {
      "text/plain": [
       "Index([2017-09-27, 2017-09-28, 2017-10-18, 2017-10-24, 2017-11-23, 2017-12-04,\n",
       "       2018-02-08, 2018-02-25, 2018-02-28, 2018-03-01,\n",
       "       ...\n",
       "       2022-08-09, 2022-08-12, 2022-08-17, 2022-08-19, 2022-08-29, 2022-09-06,\n",
       "       2022-09-11, 2022-09-14, 2022-09-19, 2022-09-23],\n",
       "      dtype='object', name='date', length=705)"
      ]
     },
     "execution_count": 8,
     "metadata": {},
     "output_type": "execute_result"
    }
   ],
   "source": [
    "virus_bydate.index"
   ]
  },
  {
   "cell_type": "markdown",
   "metadata": {
    "nteract": {
     "transient": {
      "deleting": false
     }
    }
   },
   "source": [
    "*2017년 9월 22일부터 2022년 10월 15일까지 전체 날짜를 입력받고 발생데이터를 더미변수로 포함시켜야 한다. <br>\n",
    " \n",
    "*지역을 도, 시, 군 등으로 쪼개고 지역단위로 쪼갰을때 발생양상은 어떤지 분석하고 지역구분을 확정지어야 기후 데이터를 가져올 수 있다. "
   ]
  },
  {
   "cell_type": "code",
   "execution_count": 9,
   "metadata": {
    "gather": {
     "logged": 1665837382753
    },
    "jupyter": {
     "outputs_hidden": false,
     "source_hidden": false
    },
    "nteract": {
     "transient": {
      "deleting": false
     }
    }
   },
   "outputs": [],
   "source": [
    "locs=[]\n",
    "for loc in virus.location:\n",
    "    a=str(loc).split()\n",
    "    locs.append(a)\n",
    "korea=pd.DataFrame(locs)"
   ]
  },
  {
   "cell_type": "code",
   "execution_count": 10,
   "metadata": {},
   "outputs": [
    {
     "data": {
      "text/html": [
       "<div>\n",
       "<style scoped>\n",
       "    .dataframe tbody tr th:only-of-type {\n",
       "        vertical-align: middle;\n",
       "    }\n",
       "\n",
       "    .dataframe tbody tr th {\n",
       "        vertical-align: top;\n",
       "    }\n",
       "\n",
       "    .dataframe thead th {\n",
       "        text-align: right;\n",
       "    }\n",
       "</style>\n",
       "<table border=\"1\" class=\"dataframe\">\n",
       "  <thead>\n",
       "    <tr style=\"text-align: right;\">\n",
       "      <th></th>\n",
       "      <th>0</th>\n",
       "      <th>1</th>\n",
       "      <th>2</th>\n",
       "      <th>3</th>\n",
       "      <th>4</th>\n",
       "    </tr>\n",
       "  </thead>\n",
       "  <tbody>\n",
       "    <tr>\n",
       "      <th>0</th>\n",
       "      <td>경상북도</td>\n",
       "      <td>영주시</td>\n",
       "      <td>단산면</td>\n",
       "      <td>옥대리</td>\n",
       "      <td>None</td>\n",
       "    </tr>\n",
       "    <tr>\n",
       "      <th>1</th>\n",
       "      <td>경상북도</td>\n",
       "      <td>영주시</td>\n",
       "      <td>단산면</td>\n",
       "      <td>좌석리</td>\n",
       "      <td>None</td>\n",
       "    </tr>\n",
       "    <tr>\n",
       "      <th>2</th>\n",
       "      <td>경상북도</td>\n",
       "      <td>경주시</td>\n",
       "      <td>건천읍</td>\n",
       "      <td>신평리</td>\n",
       "      <td>None</td>\n",
       "    </tr>\n",
       "    <tr>\n",
       "      <th>3</th>\n",
       "      <td>인천광역시</td>\n",
       "      <td>강화군</td>\n",
       "      <td>양도면</td>\n",
       "      <td>능내리</td>\n",
       "      <td>None</td>\n",
       "    </tr>\n",
       "    <tr>\n",
       "      <th>4</th>\n",
       "      <td>인천광역시</td>\n",
       "      <td>강화군</td>\n",
       "      <td>내가면</td>\n",
       "      <td>고천리</td>\n",
       "      <td>None</td>\n",
       "    </tr>\n",
       "    <tr>\n",
       "      <th>...</th>\n",
       "      <td>...</td>\n",
       "      <td>...</td>\n",
       "      <td>...</td>\n",
       "      <td>...</td>\n",
       "      <td>...</td>\n",
       "    </tr>\n",
       "    <tr>\n",
       "      <th>1826</th>\n",
       "      <td>경기도</td>\n",
       "      <td>양평군</td>\n",
       "      <td>용문면</td>\n",
       "      <td>다문리</td>\n",
       "      <td>None</td>\n",
       "    </tr>\n",
       "    <tr>\n",
       "      <th>1827</th>\n",
       "      <td>강원도</td>\n",
       "      <td>강릉시</td>\n",
       "      <td>연곡면</td>\n",
       "      <td>행정리</td>\n",
       "      <td>None</td>\n",
       "    </tr>\n",
       "    <tr>\n",
       "      <th>1828</th>\n",
       "      <td>강원도</td>\n",
       "      <td>삼척시</td>\n",
       "      <td>도계읍</td>\n",
       "      <td>심포리</td>\n",
       "      <td>None</td>\n",
       "    </tr>\n",
       "    <tr>\n",
       "      <th>1829</th>\n",
       "      <td>전라남도</td>\n",
       "      <td>강진군</td>\n",
       "      <td>대구면</td>\n",
       "      <td>용운리</td>\n",
       "      <td>None</td>\n",
       "    </tr>\n",
       "    <tr>\n",
       "      <th>1830</th>\n",
       "      <td>경기도</td>\n",
       "      <td>양평군</td>\n",
       "      <td>양동면</td>\n",
       "      <td>삼산리</td>\n",
       "      <td>None</td>\n",
       "    </tr>\n",
       "  </tbody>\n",
       "</table>\n",
       "<p>1831 rows × 5 columns</p>\n",
       "</div>"
      ],
      "text/plain": [
       "          0    1    2    3     4\n",
       "0      경상북도  영주시  단산면  옥대리  None\n",
       "1      경상북도  영주시  단산면  좌석리  None\n",
       "2      경상북도  경주시  건천읍  신평리  None\n",
       "3     인천광역시  강화군  양도면  능내리  None\n",
       "4     인천광역시  강화군  내가면  고천리  None\n",
       "...     ...  ...  ...  ...   ...\n",
       "1826    경기도  양평군  용문면  다문리  None\n",
       "1827    강원도  강릉시  연곡면  행정리  None\n",
       "1828    강원도  삼척시  도계읍  심포리  None\n",
       "1829   전라남도  강진군  대구면  용운리  None\n",
       "1830    경기도  양평군  양동면  삼산리  None\n",
       "\n",
       "[1831 rows x 5 columns]"
      ]
     },
     "execution_count": 10,
     "metadata": {},
     "output_type": "execute_result"
    }
   ],
   "source": [
    "korea"
   ]
  },
  {
   "cell_type": "code",
   "execution_count": 11,
   "metadata": {
    "gather": {
     "logged": 1665838668194
    },
    "jupyter": {
     "outputs_hidden": false,
     "source_hidden": false
    },
    "nteract": {
     "transient": {
      "deleting": false
     }
    }
   },
   "outputs": [
    {
     "data": {
      "text/plain": [
       "0\n",
       "강원도        565\n",
       "경상북도       338\n",
       "전라남도       224\n",
       "경기도        177\n",
       "전라북도       157\n",
       "경상남도       156\n",
       "충청북도        94\n",
       "충청남도        49\n",
       "제주특별자치도     22\n",
       "대구광역시       15\n",
       "부산광역시       12\n",
       "인천광역시        9\n",
       "울산광역시        6\n",
       "광주광역시        5\n",
       "대전광역시        1\n",
       "세종특별자치시      1\n",
       "Name: 0, dtype: int64"
      ]
     },
     "execution_count": 11,
     "metadata": {},
     "output_type": "execute_result"
    }
   ],
   "source": [
    "korea_first=korea.iloc[:, 0].groupby(korea.iloc[:, 0]).count()\n",
    "korea_first.sort_values(ascending=False) #전국을 8도로 나누고 각 지역별 감염건수를 카운트한다."
   ]
  },
  {
   "cell_type": "code",
   "execution_count": 13,
   "metadata": {},
   "outputs": [
    {
     "name": "stdout",
     "output_type": "stream",
     "text": [
      "['Malgun Gothic']\n"
     ]
    },
    {
     "data": {
      "image/png": "[encoded data removed]",
      "text/plain": [
       "<Figure size 960x960 with 1 Axes>"
      ]
     },
     "metadata": {},
     "output_type": "display_data"
    }
   ],
   "source": [
    "korea_first=korea.iloc[:, 0].groupby(korea.iloc[:, 0]).count()\n",
    "plt.rc('font', family='Malgun Gothic')\n",
    "print(plt.rcParams['font.family'])\n",
    "x=np.arange(len(korea_first.sort_values()))\n",
    "fig=plt.figure(figsize=(12, 12), facecolor='white')\n",
    "ax = fig.add_subplot()\n",
    "plt.style.use(['classic'])\n",
    "bars=plt.bar(x, korea_first.sort_values().values, color='orange', edgecolor='black', linewidth=1.2, alpha=0.7)\n",
    "for i, b in enumerate(bars):\n",
    "    ax.text(b.get_x()+b.get_width()*(1/2),b.get_height()+3, \\\n",
    "            korea_first.sort_values().values[i],ha='center',fontsize=10)\n",
    "plt.xticks(x, korea_first.sort_values().index, rotation=45)\n",
    "ax.set_title('대분류 기준 낭충봉아부패병 발병 건수 (2017.9.22~2022.10.15)',fontsize= 20)\n",
    "plt.savefig('C:/Users/localadmin/Desktop/src/data preprocessing/Plots/eda1.png')"
   ]
  },
  {
   "cell_type": "code",
   "execution_count": 15,
   "metadata": {
    "gather": {
     "logged": 1665840887297
    },
    "jupyter": {
     "outputs_hidden": false,
     "source_hidden": false
    },
    "nteract": {
     "transient": {
      "deleting": false
     }
    }
   },
   "outputs": [],
   "source": [
    "virus['first_div']=korea.iloc[:, 0] #바이러스의 first_div라는 열을 만들고 8도 분류를 추가\n",
    "virus['second_div']=korea.iloc[:, 0]+\".\"+korea.iloc[:, 1] #더 아래 기준을 추가(예를 들면 강원도.철원군, 강원도.춘천)\n",
    "virus['third_div']=korea.iloc[:, 0]+\".\"+korea.iloc[:, 1]+'.'+korea.iloc[:, 2] # 더더 아래 기준을 추가"
   ]
  },
  {
   "cell_type": "code",
   "execution_count": 16,
   "metadata": {},
   "outputs": [
    {
     "data": {
      "text/plain": [
       "전라북도.남원시     29\n",
       "전라남도.화순군     30\n",
       "충청북도.충주시     33\n",
       "강원도.화천군      35\n",
       "전라남도.곡성군     35\n",
       "경상북도.의성군     37\n",
       "강원도.원주시      37\n",
       "강원도.삼척시      39\n",
       "경상남도.산청군     40\n",
       "강원도.정선군      43\n",
       "경기도.가평군      43\n",
       "전라남도.보성군     44\n",
       "경상북도.안동시     50\n",
       "경기도.양평군      50\n",
       "강원도.횡성군      63\n",
       "경상북도.봉화군     69\n",
       "전라북도.임실군     69\n",
       "강원도.평창군      87\n",
       "강원도.인제군      89\n",
       "강원도.홍천군     103\n",
       "Name: second_div, dtype: int64"
      ]
     },
     "execution_count": 16,
     "metadata": {},
     "output_type": "execute_result"
    }
   ],
   "source": [
    "virus.second_div.value_counts(ascending=True)[-20:]"
   ]
  },
  {
   "cell_type": "code",
   "execution_count": 17,
   "metadata": {},
   "outputs": [
    {
     "name": "stdout",
     "output_type": "stream",
     "text": [
      "['Malgun Gothic']\n"
     ]
    },
    {
     "data": {
      "text/plain": [
       "Text(0.5, 1.0, '중분류 기준 낭충봉아부패병 발병 건수 (2017.9.22~2022.10.15)')"
      ]
     },
     "execution_count": 17,
     "metadata": {},
     "output_type": "execute_result"
    },
    {
     "data": {
      "image/png": "[encoded data removed]",
      "text/plain": [
       "<Figure size 960x960 with 1 Axes>"
      ]
     },
     "metadata": {},
     "output_type": "display_data"
    }
   ],
   "source": [
    "plt.rc('font', family='Malgun Gothic')\n",
    "print(plt.rcParams['font.family'])\n",
    "x=np.arange(len(virus.second_div.value_counts().iloc[:20]))\n",
    "fig=plt.figure(figsize=(12, 12), facecolor='white')\n",
    "ax = fig.add_subplot()\n",
    "plt.style.use(['classic'])\n",
    "bars=plt.bar(x, virus.second_div.value_counts(ascending=True).iloc[-20:].values, \n",
    "             color='khaki', \n",
    "             edgecolor='black', \n",
    "             linewidth=1.2, \n",
    "             alpha=0.5, \n",
    "             width=0.8)\n",
    "for i, b in enumerate(bars):\n",
    "    ax.text(b.get_x()+b.get_width()*(1/2),b.get_height()+3, \\\n",
    "            virus.second_div.value_counts(ascending=True).iloc[-20:].values[i],ha='center',fontsize=10)\n",
    "plt.xticks(x, virus.second_div.value_counts(ascending=True).iloc[-20:].index, rotation=45)\n",
    "ax.set_title('중분류 기준 낭충봉아부패병 발병 건수 (2017.9.22~2022.10.15)',fontsize= 20)"
   ]
  },
  {
   "cell_type": "code",
   "execution_count": 18,
   "metadata": {},
   "outputs": [
    {
     "name": "stdout",
     "output_type": "stream",
     "text": [
      "['Malgun Gothic']\n"
     ]
    },
    {
     "data": {
      "text/plain": [
       "Text(0.5, 1.0, '소분류 기준 낭충봉아부패병 발병 건수 (2017.9.22~2022.10.15)')"
      ]
     },
     "execution_count": 18,
     "metadata": {},
     "output_type": "execute_result"
    },
    {
     "data": {
      "image/png": "[encoded data removed]",
      "text/plain": [
       "<Figure size 960x1200 with 1 Axes>"
      ]
     },
     "metadata": {},
     "output_type": "display_data"
    }
   ],
   "source": [
    "plt.rc('font', family='Malgun Gothic')\n",
    "print(plt.rcParams['font.family'])\n",
    "x=np.arange(len(virus.third_div.value_counts(ascending=True).iloc[-20:]))\n",
    "fig=plt.figure(figsize=(12, 15), facecolor='white')\n",
    "ax = fig.add_subplot()\n",
    "plt.style.use(['classic'])\n",
    "bars=plt.bar(x, virus.third_div.value_counts(ascending=True).iloc[-20:].values, \n",
    "             color='mediumseagreen', \n",
    "             edgecolor='black', \n",
    "             linewidth=1.2, \n",
    "             alpha=0.5, \n",
    "             width=0.8)\n",
    "for i, b in enumerate(bars):\n",
    "    ax.text(b.get_x()+b.get_width()*(1/2),b.get_height()+1, \\\n",
    "            virus.third_div.value_counts(ascending=True).iloc[-20:].values[i],ha='center',fontsize=10)\n",
    "plt.xticks(x, virus.third_div.value_counts(ascending=True).iloc[-20:].index, rotation=45)\n",
    "ax.set_title('소분류 기준 낭충봉아부패병 발병 건수 (2017.9.22~2022.10.15)',fontsize= 20)"
   ]
  },
  {
   "cell_type": "code",
   "execution_count": 19,
   "metadata": {},
   "outputs": [
    {
     "data": {
      "text/plain": [
       "강원도.홍천군.서석면    17\n",
       "강원도.홍천군.화촌면    16\n",
       "강원도.홍천군.북방면    14\n",
       "강원도.홍천군.서면     12\n",
       "강원도.홍천군.남면     12\n",
       "강원도.홍천군.내촌면    11\n",
       "강원도.홍천군.두촌면     6\n",
       "강원도.홍천군.동면      6\n",
       "강원도.홍천군.홍천읍     6\n",
       "강원도.홍천군.내면      3\n",
       "Name: third_div, dtype: int64"
      ]
     },
     "execution_count": 19,
     "metadata": {},
     "output_type": "execute_result"
    }
   ],
   "source": [
    "virus.third_div[virus.second_div=='강원도.홍천군'].value_counts() #중분류에서 가장 발병횟수가 많은 홍천군은 소분류로 가도 발병횟수가 상당히 고르게 퍼져있다."
   ]
  },
  {
   "cell_type": "code",
   "execution_count": 20,
   "metadata": {},
   "outputs": [
    {
     "data": {
      "text/plain": [
       "([<matplotlib.patches.Wedge at 0x1c94d072df0>,\n",
       "  <matplotlib.patches.Wedge at 0x1c94d0807c0>,\n",
       "  <matplotlib.patches.Wedge at 0x1c94d08d190>,\n",
       "  <matplotlib.patches.Wedge at 0x1c94d08db20>,\n",
       "  <matplotlib.patches.Wedge at 0x1c94d09b4f0>,\n",
       "  <matplotlib.patches.Wedge at 0x1c94d09be80>,\n",
       "  <matplotlib.patches.Wedge at 0x1c94d0a8850>,\n",
       "  <matplotlib.patches.Wedge at 0x1c94d0b6220>,\n",
       "  <matplotlib.patches.Wedge at 0x1c94d0b6bb0>,\n",
       "  <matplotlib.patches.Wedge at 0x1c94d0c2580>],\n",
       " [Text(0.9988393436141491, 0.5699297901044095, '강원도.홍천군.서석면'),\n",
       "  Text(0.052595722495742514, 1.1487966268992744, '강원도.홍천군.화촌면'),\n",
       "  Text(-0.8784408774989103, 0.7421870550871555, '강원도.홍천군.북방면'),\n",
       "  Text(-1.145189033422559, -0.10508129104986, '강원도.홍천군.서면'),\n",
       "  Text(-0.7815862568061922, -0.843577455348165, '강원도.홍천군.남면'),\n",
       "  Text(-0.05259572249574265, -1.1487966268992744, '강원도.홍천군.내촌면'),\n",
       "  Text(0.5236510932928462, -1.0238601137329295, '강원도.홍천군.두촌면'),\n",
       "  Text(0.8553984415059949, -0.7686309298155487, '강원도.홍천군.동면'),\n",
       "  Text(1.0738268476311739, -0.41157733332448665, '강원도.홍천군.홍천읍'),\n",
       "  Text(1.145189029118249, -0.10508133795875688, '강원도.홍천군.내면')],\n",
       " [Text(0.5645613681297363, 0.3221342291894488, '16.5%'),\n",
       "  Text(0.029728017062810985, 0.6493198325952421, '15.5%'),\n",
       "  Text(-0.49651006119503627, 0.4194970311362184, '13.6%'),\n",
       "  Text(-0.6472807580214462, -0.05939377320209478, '11.7%'),\n",
       "  Text(-0.44176614515132595, -0.47680464867504974, '11.7%'),\n",
       "  Text(-0.029728017062811057, -0.6493198325952421, '10.7%'),\n",
       "  Text(0.29597670490465217, -0.5787035425446991, '5.8%'),\n",
       "  Text(0.4834860756338232, -0.4344435690261797, '5.8%'),\n",
       "  Text(0.6069456095306636, -0.23263066666166635, '5.8%'),\n",
       "  Text(0.6472807555885755, -0.059393799715819096, '2.9%')])"
      ]
     },
     "execution_count": 20,
     "metadata": {},
     "output_type": "execute_result"
    },
    {
     "data": {
      "image/png": "[encoded data removed]",
      "text/plain": [
       "<Figure size 800x480 with 1 Axes>"
      ]
     },
     "metadata": {},
     "output_type": "display_data"
    }
   ],
   "source": [
    "plt.rc('font', family='Malgun Gothic')\n",
    "wedgeprops={'width': 0.8, 'edgecolor': 'white', 'linewidth': 1}\n",
    "colors=['lightcoral', 'coral', 'orange', 'khaki',\n",
    "       'lightgreen', 'mediumseagreen', 'cornflowerblue','thistle',\n",
    "       'plum', 'pink']\n",
    "explode=[0.05, 0.05, 0.05,0.05,0.05,0.05, 0.05,0.05,0.05,0.05]\n",
    "fig=plt.figure(figsize=(10, 6), facecolor='white')\n",
    "plt.pie(virus.third_div[virus.second_div=='강원도.홍천군'].value_counts().values, \n",
    "        labels=virus.third_div[virus.second_div=='강원도.홍천군'].value_counts().index,\n",
    "        autopct='%.1f%%',\n",
    "        wedgeprops=wedgeprops, \n",
    "        explode=explode,\n",
    "        shadow=True,\n",
    "        colors=colors)"
   ]
  },
  {
   "cell_type": "code",
   "execution_count": 21,
   "metadata": {},
   "outputs": [
    {
     "data": {
      "text/plain": [
       "전라북도.남원시.산내면    19\n",
       "전라북도.남원시.사매면     2\n",
       "전라북도.남원시.도통동     2\n",
       "전라북도.남원시.인월면     1\n",
       "전라북도.남원시.운봉읍     1\n",
       "전라북도.남원시.산곡동     1\n",
       "전라북도.남원시.화정동     1\n",
       "전라북도.남원시.고죽동     1\n",
       "전라북도.남원시.동충동     1\n",
       "Name: third_div, dtype: int64"
      ]
     },
     "execution_count": 21,
     "metadata": {},
     "output_type": "execute_result"
    }
   ],
   "source": [
    "virus.third_div[virus.second_div=='전라북도.남원시'].value_counts() #하지만 상위 20위인 전라북도 남원시만 봐도 특정 지역에만 값이 몰려있고\n",
    "#대부분의 지역은 발생건수가 1에 불과해 바이러스 발생에 있어 어떠한 패턴이나 공통점을 파악하기가 어렵다. \n",
    "#이 안에서 공통점을 파악해서 새로운 분류를 만드는게 어렵다."
   ]
  },
  {
   "cell_type": "code",
   "execution_count": 22,
   "metadata": {},
   "outputs": [
    {
     "data": {
      "text/plain": [
       "([<matplotlib.patches.Wedge at 0x1c94cb40760>,\n",
       "  <matplotlib.patches.Wedge at 0x1c94cb4f9d0>,\n",
       "  <matplotlib.patches.Wedge at 0x1c94cb4f460>,\n",
       "  <matplotlib.patches.Wedge at 0x1c94cb2cdf0>,\n",
       "  <matplotlib.patches.Wedge at 0x1c94cae3df0>,\n",
       "  <matplotlib.patches.Wedge at 0x1c94cae3700>,\n",
       "  <matplotlib.patches.Wedge at 0x1c94c6ceca0>,\n",
       "  <matplotlib.patches.Wedge at 0x1c94afb9a60>,\n",
       "  <matplotlib.patches.Wedge at 0x1c94c6bef40>],\n",
       " [Text(-0.5386696871230159, 1.0160388615475258, '전라북도.남원시.산내면'),\n",
       "  Text(-0.42565892089226587, -1.0683232109548273, '전라북도.남원시.사매면'),\n",
       "  Text(0.06225969760464353, -1.1483134284916199, '전라북도.남원시.도통동'),\n",
       "  Text(0.4256588333715814, -1.0683232458262548, '전라북도.남원시.인월면'),\n",
       "  Text(0.6453650840649429, -0.9518423757481328, '전라북도.남원시.운봉읍'),\n",
       "  Text(0.8348947809231546, -0.7908544144071511, '전라북도.남원시.산곡동'),\n",
       "  Text(0.9853857260340239, -0.5928869798944821, '전라북도.남원시.화정동'),\n",
       "  Text(1.0898011301150625, -0.36719680935423804, '전라북도.남원시.고죽동'),\n",
       "  Text(1.1432586449570612, -0.12433692424595584, '전라북도.남원시.동충동')],\n",
       " [Text(-0.30446547533040025, 0.574282834787732, '65.5%'),\n",
       "  Text(-0.24058982485215022, -0.6038348583657718, '6.9%'),\n",
       "  Text(0.03519026386349417, -0.6490467204517851, '6.9%'),\n",
       "  Text(0.24058977538393728, -0.6038348780757091, '3.4%'),\n",
       "  Text(0.36477156925409804, -0.5379978645532923, '3.4%'),\n",
       "  Text(0.4718970500870004, -0.4470046690127375, '3.4%'),\n",
       "  Text(0.5569571494974916, -0.3351100321142724, '3.4%'),\n",
       "  Text(0.6159745518041657, -0.20754602267848235, '3.4%'),\n",
       "  Text(0.6461896688887737, -0.07027739196510546, '3.4%')])"
      ]
     },
     "execution_count": 22,
     "metadata": {},
     "output_type": "execute_result"
    },
    {
     "data": {
      "image/png": "[encoded data removed]",
      "text/plain": [
       "<Figure size 800x480 with 1 Axes>"
      ]
     },
     "metadata": {},
     "output_type": "display_data"
    }
   ],
   "source": [
    "plt.rc('font', family='Malgun Gothic')\n",
    "wedgeprops={'width': 0.8, 'edgecolor': 'white', 'linewidth': 1}\n",
    "colors=['lightgreen', 'mediumseagreen', 'cornflowerblue','thistle',\n",
    "       'plum','lightcoral', 'coral', 'orange', 'khaki']\n",
    "explode=[0.05, 0.05, 0.05,0.05,0.05,0.05, 0.05,0.05,0.05]\n",
    "fig=plt.figure(figsize=(10, 6), facecolor='white')\n",
    "plt.pie(virus.third_div[virus.second_div=='전라북도.남원시'].value_counts().values, \n",
    "        labels=virus.third_div[virus.second_div=='전라북도.남원시'].value_counts().index,\n",
    "        autopct='%.1f%%',\n",
    "        wedgeprops=wedgeprops, \n",
    "        explode=explode,\n",
    "        shadow=True,\n",
    "       colors=colors)"
   ]
  },
  {
   "cell_type": "code",
   "execution_count": 23,
   "metadata": {},
   "outputs": [
    {
     "name": "stdout",
     "output_type": "stream",
     "text": [
      "353    2020-06-12\n",
      "Name: date, dtype: object\n",
      "490    2019-10-21\n",
      "Name: date, dtype: object\n",
      "610    2019-08-09\n",
      "Name: date, dtype: object\n",
      "630    2019-07-26\n",
      "Name: date, dtype: object\n",
      "Series([], Name: date, dtype: object)\n",
      "770    2019-06-03\n",
      "Name: date, dtype: object\n"
     ]
    }
   ],
   "source": [
    "print(virus.date[virus.third_div=='전라북도.남원시.인월면'])\n",
    "print(virus.date[virus.third_div=='전라북도.남원시.운봉읍'])\n",
    "print(virus.date[virus.third_div=='전라북도.남원시.산곡동'])\n",
    "print(virus.date[virus.third_div=='전라북도.남원시.화정동'])\n",
    "print(virus.date[virus.third_div=='전라북도.남원시.고축동'])\n",
    "print(virus.date[virus.third_div=='전라북도.남원시.동충동']) #특별하게 이 지역들간에 관계를 파악하기 어렵고 대게 가장 발병이 많이 발생한 지역에서\n",
    "#전파되어 발생했을 가능성이 높다. 즉, 소분류로 나눠도 결국은 산내면을 중심으로 하나로 묶인다. "
   ]
  },
  {
   "cell_type": "code",
   "execution_count": 24,
   "metadata": {},
   "outputs": [
    {
     "name": "stdout",
     "output_type": "stream",
     "text": [
      "대분류 :  16\n",
      "중분류 :  145\n",
      "소분류 :  530\n"
     ]
    }
   ],
   "source": [
    "print(\"대분류 : \",len(virus.first_div.value_counts()))\n",
    "print(\"중분류 : \",len(virus.second_div.value_counts()))\n",
    "print('소분류 : ',len(virus.third_div.value_counts()))#따라서 중분류를 기준으로 발병의 패턴과 공통점을 파악해 지역을 분류한다."
   ]
  },
  {
   "cell_type": "code",
   "execution_count": 25,
   "metadata": {},
   "outputs": [],
   "source": [
    "gwon=virus[virus['first_div']==\"강원도\"].iloc[:, [1, 3, 6, 7]] #첫번째 분류기준이 강원도인 애들만 가져온다.\n",
    "ggi=virus[virus['first_div']=='경기도'].iloc[:, [1, 3, 6, 7]] #첫번째 분류기준이 경기도인 애들만 가져온다.\n",
    "gsangnam=virus[virus['first_div']=='경상남도'].iloc[:, [1, 3, 6, 7]]\n",
    "gsangbuk=virus[virus['first_div']=='경상북도'].iloc[:, [1, 3, 6, 7]]\n",
    "jnam=virus[virus['first_div']=='전라남도'].iloc[:, [1, 3, 6, 7]]\n",
    "jbuk=virus[virus['first_div']=='전라북도'].iloc[:, [1, 3, 6, 7]]\n",
    "ccnam=virus[virus['first_div']=='충청남도'].iloc[:, [1, 3, 6, 7]]\n",
    "ccbuk=virus[virus['first_div']=='충청북도'].iloc[:, [1, 3, 6, 7]]\n",
    "jeju=virus[virus['first_div']=='제주특별자치도'].iloc[:, [1, 3, 6, 7]]\n",
    "\n",
    "df=pd.DataFrame(dates) #아까 계산한 2017년 9월 22일부터 2022년 10월 15일까지의 날짜"
   ]
  },
  {
   "cell_type": "code",
   "execution_count": 26,
   "metadata": {
    "gather": {
     "logged": 1665850481374
    },
    "jupyter": {
     "outputs_hidden": false,
     "source_hidden": false
    },
    "nteract": {
     "transient": {
      "deleting": false
     }
    }
   },
   "outputs": [],
   "source": [
    "#강원도\n",
    "df_gwon=pd.DataFrame(np.zeros((len(dates), len(gwon.groupby(gwon.second_div).count().index))), columns=gwon.groupby(gwon.second_div).count().index)\n",
    "df_gwon=pd.concat([df, df_gwon], axis=1) #총 날짜만큼의 0리스트를 강원도의 두번째 분류기준 개수만큼 열로 생성한다.  \n",
    "#그리고 아까 만든 4열짜리 강원도 데이터프레임과 cbind 한다.\n",
    "\n",
    "#경기도\n",
    "df_ggi=pd.DataFrame(np.zeros((len(dates), len(ggi.groupby(ggi.second_div).count().index))), columns=ggi.groupby(ggi.second_div).count().index)\n",
    "df_ggi=pd.concat([df, df_ggi], axis=1)\n",
    "\n",
    "#경상남도\n",
    "df_gsangnam=pd.DataFrame(np.zeros((len(dates), len(gsangnam.groupby(gsangnam.second_div).count().index))), columns=gsangnam.groupby(gsangnam.second_div).count().index)\n",
    "df_gsangnam=pd.concat([df, df_gsangnam], axis=1)\n",
    "\n",
    "#경상북도\n",
    "df_gsangbuk=pd.DataFrame(np.zeros((len(dates), len(gsangbuk.groupby(gsangbuk.second_div).count().index))), columns=gsangbuk.groupby(gsangbuk.second_div).count().index)\n",
    "df_gsangbuk=pd.concat([df, df_gsangbuk], axis=1)\n",
    "\n",
    "#전라남도\n",
    "df_jnam=pd.DataFrame(np.zeros((len(dates), len(jnam.groupby(jnam.second_div).count().index))), columns=jnam.groupby(jnam.second_div).count().index)\n",
    "df_jnam=pd.concat([df, df_jnam], axis=1)\n",
    "\n",
    "#전라북도\n",
    "df_jbuk=pd.DataFrame(np.zeros((len(dates), len(jbuk.groupby(jbuk.second_div).count().index))), columns=jbuk.groupby(jbuk.second_div).count().index)\n",
    "df_jbuk=pd.concat([df, df_jbuk], axis=1)\n",
    "\n",
    "#충청남도\n",
    "df_ccnam=pd.DataFrame(np.zeros((len(dates), len(ccnam.groupby(ccnam.second_div).count().index))), columns=ccnam.groupby(ccnam.second_div).count().index)\n",
    "df_ccnam=pd.concat([df, df_ccnam], axis=1)\n",
    "\n",
    "#충청북도\n",
    "df_ccbuk=pd.DataFrame(np.zeros((len(dates), len(ccbuk.groupby(ccbuk.second_div).count().index))), columns=ccbuk.groupby(ccbuk.second_div).count().index)\n",
    "df_ccbuk=pd.concat([df, df_ccbuk], axis=1)\n",
    "\n",
    "#제주도\n",
    "df_jeju=pd.DataFrame(np.zeros((len(dates), len(jeju.groupby(jeju.second_div).count().index))), columns=jeju.groupby(jeju.second_div).count().index)\n",
    "df_jeju=pd.concat([df, df_jeju], axis=1)"
   ]
  },
  {
   "cell_type": "markdown",
   "metadata": {
    "nteract": {
     "transient": {
      "deleting": false
     }
    }
   },
   "source": [
    "# 각 지역별, 날짜별 감염개체수 계산 및 지역별 dtw 계산 후 지역묶기"
   ]
  },
  {
   "cell_type": "code",
   "execution_count": 27,
   "metadata": {
    "gather": {
     "logged": 1665866139357
    },
    "jupyter": {
     "outputs_hidden": false,
     "source_hidden": false
    },
    "nteract": {
     "transient": {
      "deleting": false
     }
    }
   },
   "outputs": [],
   "source": [
    "def reform(df, old_df, dates): #dates는 date_gen으로 함수 돌리고 입력\n",
    "    for i in range(0, len(dates)):\n",
    "        for j in old_df.index:\n",
    "            day=dates[i]\n",
    "            occur=old_df.date[j]\n",
    "            if day==occur:\n",
    "                col=old_df.second_div[j]\n",
    "                df[col][i]=df[col][i]+old_df.num[j]\n",
    "    return df\n",
    "#방금 만든 두번째 지역분류이름들이 열이름으로 들어가있는 영행렬에 날짜별로, 지역별로 총 감염개체수를 합산한다. "
   ]
  },
  {
   "cell_type": "markdown",
   "metadata": {},
   "source": [
    "## 강원도"
   ]
  },
  {
   "cell_type": "code",
   "execution_count": 28,
   "metadata": {
    "gather": {
     "logged": 1665865577850
    },
    "jupyter": {
     "outputs_hidden": false,
     "source_hidden": false
    },
    "nteract": {
     "transient": {
      "deleting": false
     }
    }
   },
   "outputs": [
    {
     "name": "stderr",
     "output_type": "stream",
     "text": [
      "C:\\Users\\localadmin\\AppData\\Local\\Temp\\ipykernel_5576\\625444845.py:8: SettingWithCopyWarning: \n",
      "A value is trying to be set on a copy of a slice from a DataFrame\n",
      "\n",
      "See the caveats in the documentation: https://pandas.pydata.org/pandas-docs/stable/user_guide/indexing.html#returning-a-view-versus-a-copy\n",
      "  df[col][i]=df[col][i]+old_df.num[j]\n"
     ]
    }
   ],
   "source": [
    "df_gwon=reform(df_gwon, gwon, dates)\n",
    "df_gwon.to_csv(\"C:/Users/localadmin/Desktop/data/eda data/df_gwon.csv\", encoding='utf-8-sig')"
   ]
  },
  {
   "cell_type": "markdown",
   "metadata": {
    "nteract": {
     "transient": {
      "deleting": false
     }
    }
   },
   "source": [
    "감염개체수가 가장 많은 지역은 여러 지역에 영향을 끼친, 가장 영향력 있는 지역일 것이다. 또는 양봉산업이 발전한 곳이다. 따라서 이 지역에서부터 다른 지역으로 역병이 펴져나갔다고 가정한다. <br>\n",
    "예를 들어 강원도에서 가장 감염개체수가 많은 지역은 강원도 삼척시이다. <br>\n",
    "여기서부터 다른 모든 지역간의 동적시간와핑을 계산한다.\n",
    " \n",
    "\n",
    "손실이 비교적 적게 나온 지역들을 보면 실제로 삼척시와 지리적으로 유사한 지역이라는 것을 확인할 수 있다. 그렇다면 이 손실들이 정규분포를 따른다고 가정하고 95%신뢰구간을 구해 그 이하의 값일 경우 삼척시와 같은 지역분류로 본다.\n",
    " \n",
    "표준정규분포표 참고\n"
   ]
  },
  {
   "cell_type": "code",
   "execution_count": 45,
   "metadata": {
    "gather": {
     "logged": 1665879873931
    },
    "jupyter": {
     "outputs_hidden": false,
     "source_hidden": false
    },
    "nteract": {
     "transient": {
      "deleting": false
     }
    }
   },
   "outputs": [],
   "source": [
    "def dtw_function(df, z=1.645):\n",
    "    from dtaidistance import dtw #dtw계산을 위해 함수 불러오기\n",
    "\n",
    "\n",
    "    locs=[]\n",
    "    box=[]\n",
    "    left=df.columns[1:]\n",
    "\n",
    "    while True:\n",
    "    \n",
    "        key=df[left].sum().sort_values(ascending=False).index[0]\n",
    "        print(\"남은 지역들 중 감염개체 발생건수가 가장 많은 지역: \", key)\n",
    "        loss=[]\n",
    "        loc=[]\n",
    "        for i in left:\n",
    "            if i==key:\n",
    "                print(\"자기자신 계산\")\n",
    "            else:\n",
    "                distance=dtw.distance(df[i], df[key])\n",
    "                loss.append(distance)\n",
    "                loc.append(i)\n",
    "                print(i, \"와 \", key, \"의 동적시간와핑 손실: \", round(distance, 3))\n",
    "\n",
    "        lowerCI=np.mean(loss)-z*np.std(loss)/len(loss)**(1/2)\n",
    "        box=[]\n",
    "        for idx in np.where(np.array(loss)<lowerCI)[0]:\n",
    "            box.append(loc[idx])\n",
    "            \n",
    "        print(key, \"과 같은 범주로 묶인 지역들: \", box)\n",
    "        box.append(key)\n",
    "        locs.append(box)\n",
    "        left=list(set(left)-set(box))\n",
    "        if len(left)<=3:\n",
    "            print(\"남은 지역들: \", left)\n",
    "            for i in range(0, len(left)):\n",
    "                locs.append(left[i])\n",
    "            break \n",
    "    return locs"
   ]
  },
  {
   "cell_type": "code",
   "execution_count": 28,
   "metadata": {
    "gather": {
     "logged": 1665864607203
    },
    "jupyter": {
     "outputs_hidden": false,
     "source_hidden": false
    },
    "nteract": {
     "transient": {
      "deleting": false
     }
    }
   },
   "outputs": [
    {
     "name": "stderr",
     "output_type": "stream",
     "text": [
      "Warning: loading library to link with numpy returned an error\n",
      "numpy.ndarray size changed, may indicate binary incompatibility. Expected 96 from C header, got 88 from PyObject\n"
     ]
    },
    {
     "name": "stdout",
     "output_type": "stream",
     "text": [
      "남은 지역들 중 감염개체 발생건수가 가장 많은 지역:  강원도.삼척시\n",
      "강원도.강릉시 와  강원도.삼척시 의 동적시간와핑 손실:  473.722\n",
      "강원도.고성군 와  강원도.삼척시 의 동적시간와핑 손실:  599.908\n",
      "강원도.동해시 와  강원도.삼척시 의 동적시간와핑 손실:  488.671\n",
      "자기자신 계산\n",
      "강원도.양구군 와  강원도.삼척시 의 동적시간와핑 손실:  576.01\n",
      "강원도.양양군 와  강원도.삼척시 의 동적시간와핑 손실:  608.589\n",
      "강원도.영월군 와  강원도.삼척시 의 동적시간와핑 손실:  528.848\n",
      "강원도.원주시 와  강원도.삼척시 의 동적시간와핑 손실:  438.577\n",
      "강원도.인제군 와  강원도.삼척시 의 동적시간와핑 손실:  551.631\n",
      "강원도.정선군 와  강원도.삼척시 의 동적시간와핑 손실:  406.521\n",
      "강원도.철원군 와  강원도.삼척시 의 동적시간와핑 손실:  618.036\n",
      "강원도.춘천시 와  강원도.삼척시 의 동적시간와핑 손실:  586.433\n",
      "강원도.태백시 와  강원도.삼척시 의 동적시간와핑 손실:  404.375\n",
      "강원도.평창군 와  강원도.삼척시 의 동적시간와핑 손실:  548.783\n",
      "강원도.홍천군 와  강원도.삼척시 의 동적시간와핑 손실:  549.82\n",
      "강원도.화천군 와  강원도.삼척시 의 동적시간와핑 손실:  513.086\n",
      "강원도.횡성군 와  강원도.삼척시 의 동적시간와핑 손실:  496.791\n",
      "강원도.강릉시\n",
      "강원도.동해시\n",
      "강원도.원주시\n",
      "강원도.정선군\n",
      "강원도.태백시\n",
      "강원도.횡성군\n",
      "강원도.삼척시 과 같은 범주로 묶인 지역들:  ['강원도.강릉시', '강원도.동해시', '강원도.원주시', '강원도.정선군', '강원도.태백시', '강원도.횡성군']\n",
      "남은 지역들 중 감염개체 발생건수가 가장 많은 지역:  강원도.홍천군\n",
      "강원도.영월군 와  강원도.홍천군 의 동적시간와핑 손실:  178.511\n",
      "강원도.평창군 와  강원도.홍천군 의 동적시간와핑 손실:  93.664\n",
      "자기자신 계산\n",
      "강원도.춘천시 와  강원도.홍천군 의 동적시간와핑 손실:  96.031\n",
      "강원도.인제군 와  강원도.홍천군 의 동적시간와핑 손실:  66.106\n",
      "강원도.철원군 와  강원도.홍천군 의 동적시간와핑 손실:  118.786\n",
      "강원도.화천군 와  강원도.홍천군 의 동적시간와핑 손실:  106.042\n",
      "강원도.양구군 와  강원도.홍천군 의 동적시간와핑 손실:  115.758\n",
      "강원도.고성군 와  강원도.홍천군 의 동적시간와핑 손실:  106.009\n",
      "강원도.양양군 와  강원도.홍천군 의 동적시간와핑 손실:  95.932\n",
      "강원도.인제군\n",
      "강원도.홍천군 과 같은 범주로 묶인 지역들:  ['강원도.인제군']\n",
      "남은 지역들 중 감염개체 발생건수가 가장 많은 지역:  강원도.평창군\n",
      "강원도.영월군 와  강원도.평창군 의 동적시간와핑 손실:  111.987\n",
      "자기자신 계산\n",
      "강원도.춘천시 와  강원도.평창군 의 동적시간와핑 손실:  76.688\n",
      "강원도.화천군 와  강원도.평창군 의 동적시간와핑 손실:  64.969\n",
      "강원도.철원군 와  강원도.평창군 의 동적시간와핑 손실:  85.0\n",
      "강원도.양구군 와  강원도.평창군 의 동적시간와핑 손실:  50.596\n",
      "강원도.고성군 와  강원도.평창군 의 동적시간와핑 손실:  80.808\n",
      "강원도.양양군 와  강원도.평창군 의 동적시간와핑 손실:  89.039\n",
      "강원도.화천군\n",
      "강원도.양구군\n",
      "강원도.평창군 과 같은 범주로 묶인 지역들:  ['강원도.화천군', '강원도.양구군']\n",
      "남은 지역들 중 감염개체 발생건수가 가장 많은 지역:  강원도.영월군\n",
      "자기자신 계산\n",
      "강원도.춘천시 와  강원도.영월군 의 동적시간와핑 손실:  170.265\n",
      "강원도.철원군 와  강원도.영월군 의 동적시간와핑 손실:  165.439\n",
      "강원도.고성군 와  강원도.영월군 의 동적시간와핑 손실:  171.412\n",
      "강원도.양양군 와  강원도.영월군 의 동적시간와핑 손실:  181.816\n",
      "강원도.철원군\n",
      "강원도.영월군 과 같은 범주로 묶인 지역들:  ['강원도.철원군']\n",
      "남은 지역들:  ['강원도.고성군', '강원도.양양군', '강원도.춘천시']\n"
     ]
    }
   ],
   "source": [
    "division=dtw_function(df_gwon)"
   ]
  },
  {
   "cell_type": "code",
   "execution_count": 46,
   "metadata": {
    "gather": {
     "logged": 1665865254573
    },
    "jupyter": {
     "outputs_hidden": false,
     "source_hidden": false
    },
    "nteract": {
     "transient": {
      "deleting": false
     }
    }
   },
   "outputs": [
    {
     "data": {
      "text/plain": [
       "강원도.홍천군    103\n",
       "강원도.인제군     89\n",
       "강원도.평창군     87\n",
       "강원도.횡성군     63\n",
       "강원도.정선군     43\n",
       "강원도.삼척시     39\n",
       "강원도.원주시     37\n",
       "강원도.화천군     35\n",
       "강원도.춘천시     20\n",
       "강원도.양양군     15\n",
       "강원도.강릉시      9\n",
       "강원도.영월군      7\n",
       "강원도.양구군      5\n",
       "강원도.태백시      5\n",
       "강원도.고성군      4\n",
       "강원도.동해시      3\n",
       "강원도.철원군      1\n",
       "Name: second_div, dtype: int64"
      ]
     },
     "execution_count": 46,
     "metadata": {},
     "output_type": "execute_result"
    }
   ],
   "source": [
    "gwon.second_div.value_counts() #나머지 하위 3개가 애초에 데이터가 별로 없는 애들이라면 그냥 다른 곳에 포함시키자."
   ]
  },
  {
   "cell_type": "markdown",
   "metadata": {},
   "source": [
    "## 정성평가\n",
    "실제 지리적으로 인접해있으면서 비슷한 시기에 발생이 이루어졌는지 한번 더 확인한다."
   ]
  },
  {
   "cell_type": "code",
   "execution_count": 47,
   "metadata": {
    "gather": {
     "logged": 1665904434159
    },
    "jupyter": {
     "outputs_hidden": false,
     "source_hidden": false
    },
    "nteract": {
     "transient": {
      "deleting": false
     }
    }
   },
   "outputs": [],
   "source": [
    "def compare(df, col1, col2, gap=7):\n",
    "    #col1 예시 : '강원도.원주시'\n",
    "    #col2 예시: '강원도.삼척시'\n",
    "    date1=df.iloc[np.where(np.array(df[col1])!=0)[0], 0]\n",
    "    date2=df.iloc[np.where(np.array(df[col2])!=0)[0], 0]\n",
    "    if len(date1)<=len(date2):\n",
    "        mindays=[]\n",
    "        relations=[]\n",
    "        for occur in date1:\n",
    "            diff_occur=[]\n",
    "            for base in date2:\n",
    "                diff_occur.append(abs(occur-base))\n",
    "            mindays.append(np.min(diff_occur))\n",
    "            if np.min(diff_occur).days <= gap:\n",
    "                relations.append(np.min(diff_occur).days)\n",
    "        return print(col1, \"과 \", col2,\"의 평균 시간차: \",np.mean(mindays) ,\"\\n\", gap,\"일이내 연속 발생건수: \", len(relations))\n",
    "    else:\n",
    "        print(\"length of col1 is larger than col2. change the positions\")"
   ]
  },
  {
   "cell_type": "code",
   "execution_count": 48,
   "metadata": {
    "gather": {
     "logged": 1665903119842
    },
    "jupyter": {
     "outputs_hidden": false,
     "source_hidden": false
    },
    "nteract": {
     "transient": {
      "deleting": false
     }
    }
   },
   "outputs": [
    {
     "name": "stdout",
     "output_type": "stream",
     "text": [
      "강원도.평창군 과  강원도.홍천군 의 평균 시간차:  11 days, 7:31:20.597015 \n",
      " 7 일이내 연속 발생건수:  54\n",
      "강원도.삼척시 과  강원도.평창군 의 평균 시간차:  35 days, 3:18:37.241379 \n",
      " 7 일이내 연속 발생건수:  22\n",
      "_________횡성군어디____________\n",
      "강원도.횡성군 과  강원도.평창군 의 평균 시간차:  3 days, 0:53:20 \n",
      " 7 일이내 연속 발생건수:  51\n",
      "강원도.횡성군 과  강원도.홍천군 의 평균 시간차:  7 days, 21:20:00 \n",
      " 7 일이내 연속 발생건수:  53\n",
      "강원도.삼척시 과  강원도.횡성군 의 평균 시간차:  39 days, 3:18:37.241379 \n",
      " 7 일이내 연속 발생건수:  17\n",
      "_________원주시어디_____________\n",
      "강원도.원주시 과  강원도.삼척시 의 평균 시간차:  33 days, 4:08:16.551724 \n",
      " 7 일이내 연속 발생건수:  5\n",
      "강원도.원주시 과  강원도.평창군 의 평균 시간차:  88 days, 7:26:53.793103 \n",
      " 7 일이내 연속 발생건수:  14\n",
      "_________춘천시 어디_____________\n",
      "강원도.춘천시 과  강원도.화천군 의 평균 시간차:  24 days, 22:40:00 \n",
      " 7 일이내 연속 발생건수:  7\n",
      "강원도.춘천시 과  강원도.홍천군 의 평균 시간차:  102 days, 20:00:00 \n",
      " 7 일이내 연속 발생건수:  10\n",
      "__________고성군과 양양군______\n",
      "강원도.고성군 과  강원도.양양군 의 평균 시간차:  267 days, 6:00:00 \n",
      " 7 일이내 연속 발생건수:  1\n"
     ]
    }
   ],
   "source": [
    "compare(df_gwon, '강원도.평창군', '강원도.홍천군')\n",
    "compare(df_gwon, '강원도.삼척시', '강원도.평창군') \n",
    "#평창군은 화천군, 양구군과 지리적으로 너무 떨어져있어서 결과를 신뢰하기 힘들다.\n",
    "#따라서 지리적으로 가까운 삼척시, 홍천군과 유사도를 비교해보자.\n",
    "#결과적으로 평창군은 홍천군으로 간다.\n",
    "print('_________횡성군어디____________')\n",
    "compare(df_gwon, '강원도.횡성군', '강원도.평창군') \n",
    "\n",
    "compare(df_gwon, '강원도.횡성군', '강원도.홍천군')\n",
    "compare(df_gwon,'강원도.삼척시', '강원도.횡성군')\n",
    "#평창군, 횡성군, 홍천군 같이 묶인다.\n",
    "\n",
    "print('_________원주시어디_____________')\n",
    "compare(df_gwon, '강원도.원주시', '강원도.삼척시')\n",
    "compare(df_gwon, '강원도.원주시', '강원도.평창군')\n",
    "#역시나 원주시도 홍천군으로 묶는다. 평균시간차가 큰 것은 원주시가 평창군에는 없는 연도를 많이 가지고 있기 때문이다. \n",
    "\n",
    "print(\"_________춘천시 어디_____________\")\n",
    "compare(df_gwon, '강원도.춘천시', '강원도.화천군')\n",
    "compare(df_gwon, '강원도.춘천시', '강원도.홍천군')\n",
    "#7일이내 발생건수는 크게 차이나지 않는다. 근데 평균 시간차 차이가 크다. 화천시에는 없는 발생연도가 춘천시에 좀 있다는건데 발생건수가 크게 차이나지 않으니\n",
    "#최소한 연도라도 맞출 수 있는 화천군으로 간다.\n",
    "\n",
    "print(\"__________고성군과 양양군______\")\n",
    "compare(df_gwon, '강원도.고성군', '강원도.양양군') #감염개체수가 너무 적어 비교 불가능하다. 과감히 삭제한다."
   ]
  },
  {
   "cell_type": "code",
   "execution_count": 619,
   "metadata": {
    "gather": {
     "logged": 1665903217185
    },
    "jupyter": {
     "outputs_hidden": false,
     "source_hidden": false
    },
    "nteract": {
     "transient": {
      "deleting": false
     }
    }
   },
   "outputs": [
    {
     "name": "stdout",
     "output_type": "stream",
     "text": [
      "강원도 춘천시 발생일자:  \n",
      " 301     2018-07-20\n",
      "355     2018-09-12\n",
      "371     2018-09-28\n",
      "418     2018-11-14\n",
      "552     2019-03-28\n",
      "588     2019-05-03\n",
      "613     2019-05-28\n",
      "650     2019-07-04\n",
      "690     2019-08-13\n",
      "796     2019-11-27\n",
      "935     2020-04-14\n",
      "972     2020-05-21\n",
      "1034    2020-07-22\n",
      "1299    2021-04-13\n",
      "1302    2021-04-16\n",
      "1307    2021-04-21\n",
      "1376    2021-06-29\n",
      "1379    2021-07-02\n",
      "Name: 0, dtype: object\n",
      "강원도 홍천군 발생일자:  \n",
      " 199    2018-04-09\n",
      "201    2018-04-11\n",
      "203    2018-04-13\n",
      "208    2018-04-18\n",
      "210    2018-04-20\n",
      "          ...    \n",
      "699    2019-08-22\n",
      "713    2019-09-05\n",
      "731    2019-09-23\n",
      "929    2020-04-08\n",
      "992    2020-06-10\n",
      "Name: 0, Length: 74, dtype: object\n"
     ]
    }
   ],
   "source": [
    "print(\"강원도 춘천시 발생일자: \",\"\\n\",df_gwon.iloc[np.where(np.array(df_gwon['강원도.춘천시'])!= 0)[0], 0])\n",
    "print(\"강원도 홍천군 발생일자: \",\"\\n\",df_gwon.iloc[np.where(np.array(df_gwon['강원도.홍천군'])!= 0)[0], 0])"
   ]
  },
  {
   "cell_type": "markdown",
   "metadata": {
    "nteract": {
     "transient": {
      "deleting": false
     }
    }
   },
   "source": [
    "## 경기도 "
   ]
  },
  {
   "cell_type": "code",
   "execution_count": 49,
   "metadata": {
    "gather": {
     "logged": 1665866148726
    },
    "jupyter": {
     "outputs_hidden": false,
     "source_hidden": false
    },
    "nteract": {
     "transient": {
      "deleting": false
     }
    }
   },
   "outputs": [
    {
     "name": "stderr",
     "output_type": "stream",
     "text": [
      "C:\\Users\\localadmin\\AppData\\Local\\Temp\\ipykernel_8916\\625444845.py:8: SettingWithCopyWarning: \n",
      "A value is trying to be set on a copy of a slice from a DataFrame\n",
      "\n",
      "See the caveats in the documentation: https://pandas.pydata.org/pandas-docs/stable/user_guide/indexing.html#returning-a-view-versus-a-copy\n",
      "  df[col][i]=df[col][i]+old_df.num[j]\n"
     ]
    }
   ],
   "source": [
    "df_ggi=reform(df_ggi, ggi, dates)\n",
    "df_ggi.to_csv(\"C:/Users/localadmin/Desktop/data/eda data/df_ggi.csv\", encoding='utf-8-sig')"
   ]
  },
  {
   "cell_type": "code",
   "execution_count": 518,
   "metadata": {
    "gather": {
     "logged": 1666419539303
    },
    "jupyter": {
     "outputs_hidden": false,
     "source_hidden": false
    },
    "nteract": {
     "transient": {
      "deleting": false
     }
    }
   },
   "outputs": [
    {
     "name": "stdout",
     "output_type": "stream",
     "text": [
      "남은 지역들 중 감염개체 발생건수가 가장 많은 지역:  경기도.양평군\n",
      "경기도.가평군 와  경기도.양평군 의 동적시간와핑 손실:  53.132\n",
      "경기도.고양시 와  경기도.양평군 의 동적시간와핑 손실:  61.457\n",
      "경기도.군포시 와  경기도.양평군 의 동적시간와핑 손실:  77.627\n",
      "경기도.김포시 와  경기도.양평군 의 동적시간와핑 손실:  60.075\n",
      "경기도.남양주시 와  경기도.양평군 의 동적시간와핑 손실:  62.968\n",
      "경기도.동두천시 와  경기도.양평군 의 동적시간와핑 손실:  76.368\n",
      "경기도.부천시 와  경기도.양평군 의 동적시간와핑 손실:  74.766\n",
      "경기도.성남시 와  경기도.양평군 의 동적시간와핑 손실:  64.521\n",
      "경기도.수원시 와  경기도.양평군 의 동적시간와핑 손실:  77.531\n",
      "경기도.시흥시 와  경기도.양평군 의 동적시간와핑 손실:  74.209\n",
      "경기도.안산시 와  경기도.양평군 의 동적시간와핑 손실:  77.434\n",
      "경기도.안성시 와  경기도.양평군 의 동적시간와핑 손실:  71.903\n",
      "경기도.안양시 와  경기도.양평군 의 동적시간와핑 손실:  77.627\n",
      "경기도.양주시 와  경기도.양평군 의 동적시간와핑 손실:  77.318\n",
      "자기자신 계산\n",
      "경기도.여주시 와  경기도.양평군 의 동적시간와핑 손실:  67.602\n",
      "경기도.연천군 와  경기도.양평군 의 동적시간와핑 손실:  66.053\n",
      "경기도.오산시 와  경기도.양평군 의 동적시간와핑 손실:  76.824\n",
      "경기도.용인시 와  경기도.양평군 의 동적시간와핑 손실:  232.271\n",
      "경기도.이천시 와  경기도.양평군 의 동적시간와핑 손실:  58.686\n",
      "경기도.파주시 와  경기도.양평군 의 동적시간와핑 손실:  73.986\n",
      "경기도.평택시 와  경기도.양평군 의 동적시간와핑 손실:  78.441\n",
      "경기도.포천시 와  경기도.양평군 의 동적시간와핑 손실:  77.24\n",
      "경기도.화성시 와  경기도.양평군 의 동적시간와핑 손실:  77.298\n",
      "경기도.가평군\n",
      "경기도.고양시\n",
      "경기도.김포시\n",
      "경기도.남양주시\n",
      "경기도.성남시\n",
      "경기도.연천군\n",
      "경기도.이천시\n",
      "경기도.양평군 과 같은 범주로 묶인 지역들:  ['경기도.가평군', '경기도.고양시', '경기도.김포시', '경기도.남양주시', '경기도.성남시', '경기도.연천군', '경기도.이천시']\n",
      "남은 지역들 중 감염개체 발생건수가 가장 많은 지역:  경기도.용인시\n",
      "경기도.양주시 와  경기도.용인시 의 동적시간와핑 손실:  269.197\n",
      "경기도.안양시 와  경기도.용인시 의 동적시간와핑 손실:  268.252\n",
      "경기도.시흥시 와  경기도.용인시 의 동적시간와핑 손실:  265.23\n",
      "자기자신 계산\n",
      "경기도.동두천시 와  경기도.용인시 의 동적시간와핑 손실:  267.18\n",
      "경기도.안산시 와  경기도.용인시 의 동적시간와핑 손실:  268.254\n",
      "경기도.평택시 와  경기도.용인시 의 동적시간와핑 손실:  269.251\n",
      "경기도.파주시 와  경기도.용인시 의 동적시간와핑 손실:  180.463\n",
      "경기도.화성시 와  경기도.용인시 의 동적시간와핑 손실:  265.255\n",
      "경기도.군포시 와  경기도.용인시 의 동적시간와핑 손실:  268.252\n",
      "경기도.수원시 와  경기도.용인시 의 동적시간와핑 손실:  267.253\n",
      "경기도.부천시 와  경기도.용인시 의 동적시간와핑 손실:  260.259\n",
      "경기도.포천시 와  경기도.용인시 의 동적시간와핑 손실:  267.255\n",
      "경기도.여주시 와  경기도.용인시 의 동적시간와핑 손실:  250.03\n",
      "경기도.안성시 와  경기도.용인시 의 동적시간와핑 손실:  262.153\n",
      "경기도.오산시 와  경기도.용인시 의 동적시간와핑 손실:  268.213\n",
      "경기도.파주시\n",
      "경기도.여주시\n",
      "경기도.용인시 과 같은 범주로 묶인 지역들:  ['경기도.파주시', '경기도.여주시']\n",
      "남은 지역들 중 감염개체 발생건수가 가장 많은 지역:  경기도.안성시\n",
      "경기도.양주시 와  경기도.안성시 의 동적시간와핑 손실:  7.81\n",
      "경기도.안양시 와  경기도.안성시 의 동적시간와핑 손실:  7.681\n",
      "경기도.화성시 와  경기도.안성시 의 동적시간와핑 손실:  5.657\n",
      "경기도.수원시 와  경기도.안성시 의 동적시간와핑 손실:  6.928\n",
      "경기도.포천시 와  경기도.안성시 의 동적시간와핑 손실:  6.557\n",
      "경기도.오산시 와  경기도.안성시 의 동적시간와핑 손실:  7.348\n",
      "경기도.동두천시 와  경기도.안성시 의 동적시간와핑 손실:  6.403\n",
      "경기도.시흥시 와  경기도.안성시 의 동적시간와핑 손실:  4.796\n",
      "경기도.안산시 와  경기도.안성시 의 동적시간와핑 손실:  7.348\n",
      "경기도.평택시 와  경기도.안성시 의 동적시간와핑 손실:  8.485\n",
      "경기도.군포시 와  경기도.안성시 의 동적시간와핑 손실:  7.681\n",
      "경기도.부천시 와  경기도.안성시 의 동적시간와핑 손실:  5.196\n",
      "자기자신 계산\n",
      "경기도.화성시\n",
      "경기도.시흥시\n",
      "경기도.부천시\n",
      "경기도.안성시 과 같은 범주로 묶인 지역들:  ['경기도.화성시', '경기도.시흥시', '경기도.부천시']\n",
      "남은 지역들 중 감염개체 발생건수가 가장 많은 지역:  경기도.동두천시\n",
      "경기도.양주시 와  경기도.동두천시 의 동적시간와핑 손실:  2.449\n",
      "경기도.안양시 와  경기도.동두천시 의 동적시간와핑 손실:  2.449\n",
      "경기도.안산시 와  경기도.동두천시 의 동적시간와핑 손실:  2.236\n",
      "경기도.평택시 와  경기도.동두천시 의 동적시간와핑 손실:  3.0\n",
      "경기도.군포시 와  경기도.동두천시 의 동적시간와핑 손실:  2.449\n",
      "경기도.오산시 와  경기도.동두천시 의 동적시간와핑 손실:  1.732\n",
      "경기도.수원시 와  경기도.동두천시 의 동적시간와핑 손실:  2.236\n",
      "경기도.포천시 와  경기도.동두천시 의 동적시간와핑 손실:  2.449\n",
      "자기자신 계산\n",
      "경기도.오산시\n",
      "경기도.동두천시 과 같은 범주로 묶인 지역들:  ['경기도.오산시']\n",
      "남은 지역들 중 감염개체 발생건수가 가장 많은 지역:  경기도.포천시\n",
      "경기도.양주시 와  경기도.포천시 의 동적시간와핑 손실:  2.449\n",
      "경기도.안양시 와  경기도.포천시 의 동적시간와핑 손실:  1.414\n",
      "경기도.안산시 와  경기도.포천시 의 동적시간와핑 손실:  1.0\n",
      "경기도.평택시 와  경기도.포천시 의 동적시간와핑 손실:  2.236\n",
      "경기도.군포시 와  경기도.포천시 의 동적시간와핑 손실:  1.414\n",
      "경기도.수원시 와  경기도.포천시 의 동적시간와핑 손실:  1.0\n",
      "자기자신 계산\n",
      "경기도.안산시\n",
      "경기도.수원시\n",
      "경기도.포천시 과 같은 범주로 묶인 지역들:  ['경기도.안산시', '경기도.수원시']\n",
      "남은 지역들 중 감염개체 발생건수가 가장 많은 지역:  경기도.양주시\n",
      "자기자신 계산\n",
      "경기도.안양시 와  경기도.양주시 의 동적시간와핑 손실:  2.0\n",
      "경기도.군포시 와  경기도.양주시 의 동적시간와핑 손실:  2.0\n",
      "경기도.평택시 와  경기도.양주시 의 동적시간와핑 손실:  1.732\n",
      "경기도.평택시\n",
      "경기도.양주시 과 같은 범주로 묶인 지역들:  ['경기도.평택시']\n",
      "남은 지역들 중 감염개체 발생건수가 가장 많은 지역:  경기도.안양시\n"
     ]
    },
    {
     "name": "stderr",
     "output_type": "stream",
     "text": [
      "/anaconda/envs/azureml_py38/lib/python3.8/site-packages/numpy/core/fromnumeric.py:3440: RuntimeWarning: Mean of empty slice.\n",
      "  return _methods._mean(a, axis=axis, dtype=dtype,\n",
      "/anaconda/envs/azureml_py38/lib/python3.8/site-packages/numpy/core/_methods.py:189: RuntimeWarning: invalid value encountered in double_scalars\n",
      "  ret = ret.dtype.type(ret / rcount)\n",
      "/anaconda/envs/azureml_py38/lib/python3.8/site-packages/numpy/core/_methods.py:262: RuntimeWarning: Degrees of freedom <= 0 for slice\n",
      "  ret = _var(a, axis=axis, dtype=dtype, out=out, ddof=ddof,\n",
      "/anaconda/envs/azureml_py38/lib/python3.8/site-packages/numpy/core/_methods.py:222: RuntimeWarning: invalid value encountered in true_divide\n",
      "  arrmean = um.true_divide(arrmean, div, out=arrmean, casting='unsafe',\n",
      "/anaconda/envs/azureml_py38/lib/python3.8/site-packages/numpy/core/_methods.py:254: RuntimeWarning: invalid value encountered in double_scalars\n",
      "  ret = ret.dtype.type(ret / rcount)\n"
     ]
    },
    {
     "ename": "IndexError",
     "evalue": "index 0 is out of bounds for axis 0 with size 0",
     "output_type": "error",
     "traceback": [
      "\u001b[0;31m---------------------------------------------------------------------------\u001b[0m",
      "\u001b[0;31mIndexError\u001b[0m                                Traceback (most recent call last)",
      "Input \u001b[0;32mIn [518]\u001b[0m, in \u001b[0;36m<cell line: 1>\u001b[0;34m()\u001b[0m\n\u001b[0;32m----> 1\u001b[0m division_ggi\u001b[38;5;241m=\u001b[39m\u001b[43mdtw_function\u001b[49m\u001b[43m(\u001b[49m\u001b[43mdf_ggi\u001b[49m\u001b[43m)\u001b[49m\n",
      "Input \u001b[0;32mIn [510]\u001b[0m, in \u001b[0;36mdtw_function\u001b[0;34m(df, z)\u001b[0m\n\u001b[1;32m      7\u001b[0m left\u001b[38;5;241m=\u001b[39mdf\u001b[38;5;241m.\u001b[39mcolumns[\u001b[38;5;241m1\u001b[39m:]\n\u001b[1;32m      9\u001b[0m \u001b[38;5;28;01mwhile\u001b[39;00m \u001b[38;5;28;01mTrue\u001b[39;00m:\n\u001b[0;32m---> 11\u001b[0m     key\u001b[38;5;241m=\u001b[39m\u001b[43mdf\u001b[49m\u001b[43m[\u001b[49m\u001b[43mleft\u001b[49m\u001b[43m]\u001b[49m\u001b[38;5;241;43m.\u001b[39;49m\u001b[43msum\u001b[49m\u001b[43m(\u001b[49m\u001b[43m)\u001b[49m\u001b[38;5;241;43m.\u001b[39;49m\u001b[43msort_values\u001b[49m\u001b[43m(\u001b[49m\u001b[43mascending\u001b[49m\u001b[38;5;241;43m=\u001b[39;49m\u001b[38;5;28;43;01mFalse\u001b[39;49;00m\u001b[43m)\u001b[49m\u001b[38;5;241;43m.\u001b[39;49m\u001b[43mindex\u001b[49m\u001b[43m[\u001b[49m\u001b[38;5;241;43m0\u001b[39;49m\u001b[43m]\u001b[49m\n\u001b[1;32m     12\u001b[0m     \u001b[38;5;28mprint\u001b[39m(\u001b[38;5;124m\"\u001b[39m\u001b[38;5;124m남은 지역들 중 감염개체 발생건수가 가장 많은 지역: \u001b[39m\u001b[38;5;124m\"\u001b[39m, key)\n\u001b[1;32m     13\u001b[0m     loss\u001b[38;5;241m=\u001b[39m[]\n",
      "File \u001b[0;32m/anaconda/envs/azureml_py38/lib/python3.8/site-packages/pandas/core/indexes/base.py:4104\u001b[0m, in \u001b[0;36mIndex.__getitem__\u001b[0;34m(self, key)\u001b[0m\n\u001b[1;32m   4102\u001b[0m \u001b[38;5;28;01mif\u001b[39;00m is_scalar(key):\n\u001b[1;32m   4103\u001b[0m     key \u001b[38;5;241m=\u001b[39m com\u001b[38;5;241m.\u001b[39mcast_scalar_indexer(key, warn_float\u001b[38;5;241m=\u001b[39m\u001b[38;5;28;01mTrue\u001b[39;00m)\n\u001b[0;32m-> 4104\u001b[0m     \u001b[38;5;28;01mreturn\u001b[39;00m \u001b[43mgetitem\u001b[49m\u001b[43m(\u001b[49m\u001b[43mkey\u001b[49m\u001b[43m)\u001b[49m\n\u001b[1;32m   4106\u001b[0m \u001b[38;5;28;01mif\u001b[39;00m \u001b[38;5;28misinstance\u001b[39m(key, \u001b[38;5;28mslice\u001b[39m):\n\u001b[1;32m   4107\u001b[0m     \u001b[38;5;66;03m# This case is separated from the conditional above to avoid\u001b[39;00m\n\u001b[1;32m   4108\u001b[0m     \u001b[38;5;66;03m# pessimization of basic indexing.\u001b[39;00m\n\u001b[1;32m   4109\u001b[0m     \u001b[38;5;28;01mreturn\u001b[39;00m promote(getitem(key))\n",
      "\u001b[0;31mIndexError\u001b[0m: index 0 is out of bounds for axis 0 with size 0"
     ]
    },
    {
     "name": "stdout",
     "output_type": "stream",
     "text": [
      "경기도.군포시 와  경기도.안양시 의 동적시간와핑 손실:  0.0\n",
      "자기자신 계산\n",
      "경기도.안양시 과 같은 범주로 묶인 지역들:  []\n",
      "남은 지역들 중 감염개체 발생건수가 가장 많은 지역:  경기도.군포시\n",
      "자기자신 계산\n",
      "경기도.군포시 과 같은 범주로 묶인 지역들:  []\n"
     ]
    }
   ],
   "source": [
    "division_ggi=dtw_function(df_ggi)"
   ]
  },
  {
   "cell_type": "code",
   "execution_count": 531,
   "metadata": {
    "gather": {
     "logged": 1665896582019
    },
    "jupyter": {
     "outputs_hidden": false,
     "source_hidden": false
    },
    "nteract": {
     "transient": {
      "deleting": false
     }
    }
   },
   "outputs": [
    {
     "data": {
      "text/plain": [
       "경기도.양평군     50\n",
       "경기도.가평군     43\n",
       "경기도.이천시     12\n",
       "경기도.남양주시     9\n",
       "경기도.안성시      8\n",
       "경기도.고양시      7\n",
       "경기도.김포시      5\n",
       "경기도.용인시      5\n",
       "경기도.연천군      5\n",
       "경기도.시흥시      4\n",
       "경기도.파주시      4\n",
       "경기도.양주시      4\n",
       "경기도.성남시      4\n",
       "경기도.동두천시     3\n",
       "경기도.오산시      2\n",
       "경기도.여주시      2\n",
       "경기도.안산시      2\n",
       "경기도.포천시      2\n",
       "경기도.수원시      1\n",
       "경기도.부천시      1\n",
       "경기도.화성시      1\n",
       "경기도.군포시      1\n",
       "경기도.평택시      1\n",
       "경기도.안양시      1\n",
       "Name: second_div, dtype: int64"
      ]
     },
     "execution_count": 531,
     "metadata": {},
     "output_type": "execute_result"
    }
   ],
   "source": [
    "ggi.second_div.value_counts()"
   ]
  },
  {
   "cell_type": "markdown",
   "metadata": {
    "nteract": {
     "transient": {
      "deleting": false
     }
    }
   },
   "source": [
    "## 정성평가\n",
    "경기도는 강원도와 다르게 지리적으로 상당히 거리가 먼 지역들이 한 분류로 많이 나온다. <br> \n",
    "또한 발생건수가 5년동안 1번밖에 없는 지역도 여섯군데나 있다. 따라서 같은 분류로 나온 지역들이라도 직접 확인해보도록 하자."
   ]
  },
  {
   "cell_type": "code",
   "execution_count": 50,
   "metadata": {
    "gather": {
     "logged": 1665904657994
    },
    "jupyter": {
     "outputs_hidden": false,
     "source_hidden": false
    },
    "nteract": {
     "transient": {
      "deleting": false
     }
    }
   },
   "outputs": [
    {
     "name": "stdout",
     "output_type": "stream",
     "text": [
      "_______고양중심 경기 북서지역_____\n",
      "경기도.고양시 과  경기도.안성시 의 평균 시간차:  236 days, 20:34:17.142857 \n",
      " 10 일이내 연속 발생건수:  1\n",
      "경기도.김포시 과  경기도.고양시 의 평균 시간차:  757 days, 9:36:00 \n",
      " 10 일이내 연속 발생건수:  0\n",
      "경기도.연천군 과  경기도.고양시 의 평균 시간차:  88 days, 9:36:00 \n",
      " 10 일이내 연속 발생건수:  2\n",
      "경기도.김포시 과  경기도.연천군 의 평균 시간차:  391 days, 14:24:00 \n",
      " 10 일이내 연속 발생건수:  0\n",
      "___________파주시____________\n",
      "경기도.파주시 과  경기도.고양시 의 평균 시간차:  83 days, 12:00:00 \n",
      " 10 일이내 연속 발생건수:  0\n",
      "경기도.파주시 과  경기도.연천군 의 평균 시간차:  86 days, 18:00:00 \n",
      " 10 일이내 연속 발생건수:  1\n",
      "__________이천시______\n",
      "경기도.용인시 과  경기도.이천시 의 평균 시간차:  73 days, 19:12:00 \n",
      " 10 일이내 연속 발생건수:  1\n",
      "경기도.안성시 과  경기도.이천시 의 평균 시간차:  18 days, 6:00:00 \n",
      " 10 일이내 연속 발생건수:  4\n",
      "경기도.여주시 과  경기도.이천시 의 평균 시간차:  22 days, 12:00:00 \n",
      " 10 일이내 연속 발생건수:  1\n",
      "경기도.용인시 과  경기도.안성시 의 평균 시간차:  155 days, 4:48:00 \n",
      " 10 일이내 연속 발생건수:  1\n",
      "경기도.성남시 과  경기도.용인시 의 평균 시간차:  125 days, 0:00:00 \n",
      " 10 일이내 연속 발생건수:  0\n",
      "경기도.성남시 과  경기도.이천시 의 평균 시간차:  17 days, 0:00:00 \n",
      " 10 일이내 연속 발생건수:  2\n"
     ]
    }
   ],
   "source": [
    "print(\"_______고양중심 경기 북서지역_____\")\n",
    "compare(df_ggi, '경기도.고양시','경기도.안성시', 10)\n",
    "compare(df_ggi, '경기도.김포시', '경기도.고양시', 10)\n",
    "compare(df_ggi, '경기도.연천군', '경기도.고양시', 10)\n",
    "compare(df_ggi, '경기도.김포시', '경기도.연천군', 10)\n",
    "#애초에 데이터가 적어서 분류가 어려우나, 발생날짜차이 허용치를 늘려도 고양시와 연천군의 연관성이 보인다. \n",
    "#반면, 고양시와 김포시, 연천군과 김포시의 관련은 거의 없다. 따라서 고양시와 연천군을 하나로 묶는다. \n",
    "\n",
    "print(\"___________파주시____________\")\n",
    "compare(df_ggi, '경기도.파주시', '경기도.고양시', 10)\n",
    "compare(df_ggi, '경기도.파주시', '경기도.연천군', 10)\n",
    "#파주시의 연속 발생건수가 한 건 있으며 평균시간차가 비교적 적다. 고양시와 연천군, 파주시를 하나로 묶는다.\n",
    "\n",
    "print(\"__________이천시______\")\n",
    "compare(df_ggi, '경기도.용인시','경기도.이천시', 10)\n",
    "compare(df_ggi, '경기도.안성시','경기도.이천시', 10)\n",
    "compare(df_ggi, '경기도.여주시', '경기도.이천시', 10)\n",
    "compare(df_ggi, '경기도.용인시', '경기도.안성시', 10)\n",
    "#제일 발생건수가 많은 이천시를 중심으로 안성시, 여주시가 묶인다. \n",
    "compare(df_ggi, '경기도.성남시', '경기도.용인시', 10)\n",
    "compare(df_ggi, '경기도.성남시', '경기도.이천시', 10)\n",
    "#성남시도 이천시 중심으로 묶인다.\n"
   ]
  },
  {
   "cell_type": "markdown",
   "metadata": {
    "nteract": {
     "transient": {
      "deleting": false
     }
    }
   },
   "source": [
    "## 경상남도"
   ]
  },
  {
   "cell_type": "code",
   "execution_count": 51,
   "metadata": {
    "gather": {
     "logged": 1665868274080
    },
    "jupyter": {
     "outputs_hidden": false,
     "source_hidden": false
    },
    "nteract": {
     "transient": {
      "deleting": false
     }
    }
   },
   "outputs": [
    {
     "name": "stderr",
     "output_type": "stream",
     "text": [
      "C:\\Users\\localadmin\\AppData\\Local\\Temp\\ipykernel_8916\\625444845.py:8: SettingWithCopyWarning: \n",
      "A value is trying to be set on a copy of a slice from a DataFrame\n",
      "\n",
      "See the caveats in the documentation: https://pandas.pydata.org/pandas-docs/stable/user_guide/indexing.html#returning-a-view-versus-a-copy\n",
      "  df[col][i]=df[col][i]+old_df.num[j]\n"
     ]
    }
   ],
   "source": [
    "df_gsangnam=reform(df_gsangnam, gsangnam, dates)\n",
    "df_gsangnam.to_csv(\"C:/Users/localadmin/Desktop/data/eda data/df_gsangnam.csv\", encoding='utf-8-sig')"
   ]
  },
  {
   "cell_type": "code",
   "execution_count": 522,
   "metadata": {
    "gather": {
     "logged": 1665869303075
    },
    "jupyter": {
     "outputs_hidden": false,
     "source_hidden": false
    },
    "nteract": {
     "transient": {
      "deleting": false
     }
    }
   },
   "outputs": [
    {
     "name": "stdout",
     "output_type": "stream",
     "text": [
      "남은 지역들 중 감염개체 발생건수가 가장 많은 지역:  경상남도.거창군\n",
      "경상남도.거제시 와  경상남도.거창군 의 동적시간와핑 손실:  585.945\n",
      "자기자신 계산\n",
      "경상남도.고성군 와  경상남도.거창군 의 동적시간와핑 손실:  548.094\n",
      "경상남도.김해시 와  경상남도.거창군 의 동적시간와핑 손실:  585.548\n",
      "경상남도.남해군 와  경상남도.거창군 의 동적시간와핑 손실:  589.099\n",
      "경상남도.밀양시 와  경상남도.거창군 의 동적시간와핑 손실:  585.109\n",
      "경상남도.사천시 와  경상남도.거창군 의 동적시간와핑 손실:  589.539\n",
      "경상남도.산청군 와  경상남도.거창군 의 동적시간와핑 손실:  490.06\n",
      "경상남도.양산시 와  경상남도.거창군 의 동적시간와핑 손실:  592.408\n",
      "경상남도.의령군 와  경상남도.거창군 의 동적시간와핑 손실:  336.528\n",
      "경상남도.진주시 와  경상남도.거창군 의 동적시간와핑 손실:  465.254\n",
      "경상남도.창원시 와  경상남도.거창군 의 동적시간와핑 손실:  570.697\n",
      "경상남도.통영시 와  경상남도.거창군 의 동적시간와핑 손실:  566.936\n",
      "경상남도.하동군 와  경상남도.거창군 의 동적시간와핑 손실:  520.555\n",
      "경상남도.함안군 와  경상남도.거창군 의 동적시간와핑 손실:  565.947\n",
      "경상남도.함양군 와  경상남도.거창군 의 동적시간와핑 손실:  468.357\n",
      "경상남도.합천군 와  경상남도.거창군 의 동적시간와핑 손실:  580.245\n",
      "경상남도.산청군\n",
      "경상남도.의령군\n",
      "경상남도.진주시\n",
      "경상남도.함양군\n",
      "경상남도.거창군 과 같은 범주로 묶인 지역들:  ['경상남도.산청군', '경상남도.의령군', '경상남도.진주시', '경상남도.함양군']\n",
      "남은 지역들 중 감염개체 발생건수가 가장 많은 지역:  경상남도.하동군\n",
      "경상남도.통영시 와  경상남도.하동군 의 동적시간와핑 손실:  67.342\n",
      "경상남도.남해군 와  경상남도.하동군 의 동적시간와핑 손실:  83.427\n",
      "경상남도.김해시 와  경상남도.하동군 의 동적시간와핑 손실:  80.666\n",
      "경상남도.양산시 와  경상남도.하동군 의 동적시간와핑 손실:  87.178\n",
      "경상남도.사천시 와  경상남도.하동군 의 동적시간와핑 손실:  83.845\n",
      "경상남도.창원시 와  경상남도.하동군 의 동적시간와핑 손실:  61.106\n",
      "경상남도.밀양시 와  경상남도.하동군 의 동적시간와핑 손실:  80.355\n",
      "경상남도.거제시 와  경상남도.하동군 의 동적시간와핑 손실:  81.093\n",
      "경상남도.합천군 와  경상남도.하동군 의 동적시간와핑 손실:  73.912\n",
      "경상남도.함안군 와  경상남도.하동군 의 동적시간와핑 손실:  56.436\n",
      "자기자신 계산\n",
      "경상남도.고성군 와  경상남도.하동군 의 동적시간와핑 손실:  44.317\n",
      "경상남도.창원시\n",
      "경상남도.함안군\n",
      "경상남도.고성군\n",
      "경상남도.하동군 과 같은 범주로 묶인 지역들:  ['경상남도.창원시', '경상남도.함안군', '경상남도.고성군']\n",
      "남은 지역들 중 감염개체 발생건수가 가장 많은 지역:  경상남도.합천군\n",
      "경상남도.통영시 와  경상남도.합천군 의 동적시간와핑 손실:  19.131\n",
      "경상남도.남해군 와  경상남도.합천군 의 동적시간와핑 손실:  14.107\n",
      "경상남도.김해시 와  경상남도.합천군 의 동적시간와핑 손실:  9.644\n",
      "경상남도.양산시 와  경상남도.합천군 의 동적시간와핑 손실:  16.703\n",
      "경상남도.사천시 와  경상남도.합천군 의 동적시간와핑 손실:  13.491\n",
      "경상남도.밀양시 와  경상남도.합천군 의 동적시간와핑 손실:  14.697\n",
      "경상남도.거제시 와  경상남도.합천군 의 동적시간와핑 손실:  14.663\n",
      "자기자신 계산\n",
      "경상남도.김해시\n",
      "경상남도.합천군 과 같은 범주로 묶인 지역들:  ['경상남도.김해시']\n",
      "남은 지역들 중 감염개체 발생건수가 가장 많은 지역:  경상남도.통영시\n",
      "자기자신 계산\n",
      "경상남도.남해군 와  경상남도.통영시 의 동적시간와핑 손실:  23.367\n",
      "경상남도.양산시 와  경상남도.통영시 의 동적시간와핑 손실:  26.401\n",
      "경상남도.사천시 와  경상남도.통영시 의 동적시간와핑 손실:  23.388\n",
      "경상남도.밀양시 와  경상남도.통영시 의 동적시간와핑 손실:  20.0\n",
      "경상남도.거제시 와  경상남도.통영시 의 동적시간와핑 손실:  20.616\n",
      "경상남도.밀양시\n",
      "경상남도.거제시\n",
      "경상남도.통영시 과 같은 범주로 묶인 지역들:  ['경상남도.밀양시', '경상남도.거제시']\n",
      "남은 지역들:  ['경상남도.양산시', '경상남도.사천시', '경상남도.남해군']\n"
     ]
    }
   ],
   "source": [
    "division_gsangnam=dtw_function(df_gsangnam)"
   ]
  },
  {
   "cell_type": "code",
   "execution_count": 555,
   "metadata": {
    "gather": {
     "logged": 1665898779082
    },
    "jupyter": {
     "outputs_hidden": false,
     "source_hidden": false
    },
    "nteract": {
     "transient": {
      "deleting": false
     }
    }
   },
   "outputs": [
    {
     "data": {
      "text/plain": [
       "경상남도.산청군    40\n",
       "경상남도.창원시    18\n",
       "경상남도.합천군    17\n",
       "경상남도.함양군    13\n",
       "경상남도.함안군    11\n",
       "경상남도.김해시     9\n",
       "경상남도.하동군     9\n",
       "경상남도.거창군     8\n",
       "경상남도.진주시     8\n",
       "경상남도.의령군     6\n",
       "경상남도.고성군     5\n",
       "경상남도.사천시     5\n",
       "경상남도.남해군     2\n",
       "경상남도.통영시     2\n",
       "경상남도.양산시     1\n",
       "경상남도.밀양시     1\n",
       "경상남도.거제시     1\n",
       "Name: second_div, dtype: int64"
      ]
     },
     "execution_count": 555,
     "metadata": {},
     "output_type": "execute_result"
    }
   ],
   "source": [
    "gsangnam.second_div.value_counts()"
   ]
  },
  {
   "cell_type": "markdown",
   "metadata": {
    "nteract": {
     "transient": {
      "deleting": false
     }
    }
   },
   "source": [
    "## 정성평가"
   ]
  },
  {
   "cell_type": "code",
   "execution_count": 644,
   "metadata": {
    "gather": {
     "logged": 1665905944844
    },
    "jupyter": {
     "outputs_hidden": false,
     "source_hidden": false
    },
    "nteract": {
     "transient": {
      "deleting": false
     }
    }
   },
   "outputs": [
    {
     "name": "stdout",
     "output_type": "stream",
     "text": [
      "_______진주시, 합천군, 하동군_________\n",
      "경상남도.진주시 과  경상남도.산청군 의 평균 시간차:  108 days, 15:00:00 \n",
      " 7 일이내 연속 발생건수:  4\n",
      "경상남도.진주시 과  경상남도.창원시 의 평균 시간차:  102 days, 3:00:00 \n",
      " 7 일이내 연속 발생건수:  0\n",
      "경상남도.합천군 과  경상남도.산청군 의 평균 시간차:  94 days, 6:51:25.714286 \n",
      " 7 일이내 연속 발생건수:  6\n",
      "경상남도.하동군 과  경상남도.산청군 의 평균 시간차:  16 days, 20:34:17.142857 \n",
      " 7 일이내 연속 발생건수:  2\n",
      "경상남도.하동군 과  경상남도.창원시 의 평균 시간차:  75 days, 3:25:42.857143 \n",
      " 7 일이내 연속 발생건수:  2\n",
      "----------창원시, 함안군, 고성군, 김해시, 사천시-------\n",
      "경상남도.함안군 과  경상남도.창원시 의 평균 시간차:  73 days, 14:24:00 \n",
      " 7 일이내 연속 발생건수:  2\n",
      "경상남도.고성군 과  경상남도.창원시 의 평균 시간차:  31 days, 14:24:00 \n",
      " 7 일이내 연속 발생건수:  1\n",
      "경상남도.김해시 과  경상남도.창원시 의 평균 시간차:  30 days, 21:20:00 \n",
      " 7 일이내 연속 발생건수:  5\n",
      "경상남도.사천시 과  경상남도.창원시 의 평균 시간차:  108 days, 4:48:00 \n",
      " 7 일이내 연속 발생건수:  0\n",
      "=-------고성군-------\n",
      "경상남도.고성군 과  경상남도.김해시 의 평균 시간차:  29 days, 4:48:00 \n",
      " 7 일이내 연속 발생건수:  1\n",
      "-------함안군-------\n",
      "경상남도.김해시 과  경상남도.함안군 의 평균 시간차:  37 days, 18:40:00 \n",
      " 7 일이내 연속 발생건수:  3\n",
      "경상남도.사천시 과  경상남도.고성군 의 평균 시간차:  238 days, 9:36:00 \n",
      " 7 일이내 연속 발생건수:  1\n"
     ]
    }
   ],
   "source": [
    "print(\"_______진주시, 합천군, 하동군_________\")\n",
    "compare(df_gsangnam, '경상남도.진주시', '경상남도.산청군')\n",
    "compare(df_gsangnam, '경상남도.진주시', '경상남도.창원시')\n",
    "\n",
    "compare(df_gsangnam, '경상남도.합천군', '경상남도.산청군')\n",
    "\n",
    "compare(df_gsangnam, '경상남도.하동군', '경상남도.산청군')\n",
    "compare(df_gsangnam, '경상남도.하동군', '경상남도.창원시')\n",
    "#산청군이 혼자서 발생건수가 40이라 그런지 모두 다 산청군과 유사하게 나온다. \n",
    "\n",
    "print(\"----------창원시, 함안군, 고성군, 김해시, 사천시-------\")\n",
    "compare(df_gsangnam, '경상남도.함안군', '경상남도.창원시')\n",
    "compare(df_gsangnam, '경상남도.고성군', '경상남도.창원시')\n",
    "compare(df_gsangnam, '경상남도.김해시', '경상남도.창원시')\n",
    "compare(df_gsangnam, '경상남도.사천시', '경상남도.창원시')\n",
    "#함안군과 창안시의 연속발생건수는 2로 크지 않고 시간차도 큰 편이다. 하지만 창원시와 많이 유사한 김해시롸 함안군을 연결해보면\n",
    "#둘이 상당히 닮았다. 즉 바이러스의 전이가 일어났다고 판단하고 같은 지역으로 묶었다. \n",
    "\n",
    "print(\"=-------고성군-------\")\n",
    "compare(df_gsangnam, '경상남도.고성군', '경상남도.김해시')\n",
    "print(\"-------함안군-------\")\n",
    "compare(df_gsangnam, '경상남도.김해시', '경상남도.함안군')\n",
    "\n",
    "compare(df_gsangnam, '경상남도.사천시', '경상남도.고성군')\n",
    "\n",
    "\n"
   ]
  },
  {
   "cell_type": "markdown",
   "metadata": {
    "nteract": {
     "transient": {
      "deleting": false
     }
    }
   },
   "source": [
    "# 경상북도"
   ]
  },
  {
   "cell_type": "code",
   "execution_count": 53,
   "metadata": {
    "gather": {
     "logged": 1665870135166
    },
    "jupyter": {
     "outputs_hidden": false,
     "source_hidden": false
    },
    "nteract": {
     "transient": {
      "deleting": false
     }
    }
   },
   "outputs": [
    {
     "name": "stderr",
     "output_type": "stream",
     "text": [
      "C:\\Users\\localadmin\\AppData\\Local\\Temp\\ipykernel_8916\\625444845.py:8: SettingWithCopyWarning: \n",
      "A value is trying to be set on a copy of a slice from a DataFrame\n",
      "\n",
      "See the caveats in the documentation: https://pandas.pydata.org/pandas-docs/stable/user_guide/indexing.html#returning-a-view-versus-a-copy\n",
      "  df[col][i]=df[col][i]+old_df.num[j]\n"
     ]
    }
   ],
   "source": [
    "df_gsangbuk=reform(df_gsangbuk, gsangbuk, dates)\n",
    "df_gsangbuk.to_csv(\"C:/Users/localadmin/Desktop/data/eda data/df_gsangbuk.csv\", encoding='utf-8-sig')"
   ]
  },
  {
   "cell_type": "code",
   "execution_count": 56,
   "metadata": {},
   "outputs": [
    {
     "name": "stdout",
     "output_type": "stream",
     "text": [
      "남은 지역들 중 감염개체 발생건수가 가장 많은 지역:  경상북도.영덕군\n",
      "경상북도.경주시 와  경상북도.영덕군 의 동적시간와핑 손실:  884.385\n",
      "경상북도.구미시 와  경상북도.영덕군 의 동적시간와핑 손실:  691.422\n",
      "경상북도.군위군 와  경상북도.영덕군 의 동적시간와핑 손실:  914.028\n",
      "경상북도.김천시 와  경상북도.영덕군 의 동적시간와핑 손실:  679.244\n",
      "경상북도.문경시 와  경상북도.영덕군 의 동적시간와핑 손실:  668.874\n",
      "경상북도.봉화군 와  경상북도.영덕군 의 동적시간와핑 손실:  636.905\n",
      "경상북도.상주시 와  경상북도.영덕군 의 동적시간와핑 손실:  578.55\n",
      "경상북도.안동시 와  경상북도.영덕군 의 동적시간와핑 손실:  687.351\n",
      "자기자신 계산\n",
      "경상북도.영양군 와  경상북도.영덕군 의 동적시간와핑 손실:  772.945\n",
      "경상북도.영주시 와  경상북도.영덕군 의 동적시간와핑 손실:  619.774\n",
      "경상북도.영천시 와  경상북도.영덕군 의 동적시간와핑 손실:  696.017\n",
      "경상북도.예천군 와  경상북도.영덕군 의 동적시간와핑 손실:  851.509\n",
      "경상북도.의성군 와  경상북도.영덕군 의 동적시간와핑 손실:  728.541\n",
      "경상북도.청도군 와  경상북도.영덕군 의 동적시간와핑 손실:  952.683\n",
      "경상북도.청송군 와  경상북도.영덕군 의 동적시간와핑 손실:  831.019\n",
      "경상북도.칠곡군 와  경상북도.영덕군 의 동적시간와핑 손실:  910.973\n",
      "경상북도.포항시 와  경상북도.영덕군 의 동적시간와핑 손실:  850.179\n",
      "경상북도.영덕군 과 같은 범주로 묶인 지역들:  ['경상북도.구미시', '경상북도.김천시', '경상북도.문경시', '경상북도.봉화군', '경상북도.상주시', '경상북도.안동시', '경상북도.영주시', '경상북도.영천시']\n",
      "남은 지역들 중 감염개체 발생건수가 가장 많은 지역:  경상북도.의성군\n",
      "경상북도.영양군 와  경상북도.의성군 의 동적시간와핑 손실:  255.319\n",
      "경상북도.군위군 와  경상북도.의성군 의 동적시간와핑 손실:  383.489\n",
      "경상북도.청도군 와  경상북도.의성군 의 동적시간와핑 손실:  438.452\n",
      "경상북도.경주시 와  경상북도.의성군 의 동적시간와핑 손실:  342.701\n",
      "경상북도.청송군 와  경상북도.의성군 의 동적시간와핑 손실:  284.753\n",
      "경상북도.예천군 와  경상북도.의성군 의 동적시간와핑 손실:  303.895\n",
      "경상북도.칠곡군 와  경상북도.의성군 의 동적시간와핑 손실:  407.195\n",
      "자기자신 계산\n",
      "경상북도.포항시 와  경상북도.의성군 의 동적시간와핑 손실:  327.866\n",
      "경상북도.의성군 과 같은 범주로 묶인 지역들:  ['경상북도.영양군', '경상북도.청송군', '경상북도.예천군']\n",
      "남은 지역들 중 감염개체 발생건수가 가장 많은 지역:  경상북도.포항시\n",
      "경상북도.군위군 와  경상북도.포항시 의 동적시간와핑 손실:  88.363\n",
      "경상북도.청도군 와  경상북도.포항시 의 동적시간와핑 손실:  132.272\n",
      "경상북도.칠곡군 와  경상북도.포항시 의 동적시간와핑 손실:  97.529\n",
      "경상북도.경주시 와  경상북도.포항시 의 동적시간와핑 손실:  71.47\n",
      "자기자신 계산\n",
      "경상북도.포항시 과 같은 범주로 묶인 지역들:  ['경상북도.경주시']\n",
      "남은 지역들:  ['경상북도.군위군', '경상북도.청도군', '경상북도.칠곡군']\n"
     ]
    }
   ],
   "source": [
    "division_gsangbuk=dtw_function(df_gsangbuk)"
   ]
  },
  {
   "cell_type": "code",
   "execution_count": 645,
   "metadata": {
    "gather": {
     "logged": 1665906120217
    },
    "jupyter": {
     "outputs_hidden": false,
     "source_hidden": false
    },
    "nteract": {
     "transient": {
      "deleting": false
     }
    }
   },
   "outputs": [
    {
     "data": {
      "text/plain": [
       "경상북도.봉화군    69\n",
       "경상북도.안동시    50\n",
       "경상북도.의성군    37\n",
       "경상북도.영덕군    24\n",
       "경상북도.문경시    21\n",
       "경상북도.영주시    19\n",
       "경상북도.청송군    17\n",
       "경상북도.경주시    15\n",
       "경상북도.포항시    12\n",
       "경상북도.상주시    11\n",
       "경상북도.김천시    11\n",
       "경상북도.칠곡군    11\n",
       "경상북도.영천시    11\n",
       "경상북도.영양군    11\n",
       "경상북도.예천군     7\n",
       "경상북도.구미시     6\n",
       "경상북도.군위군     4\n",
       "경상북도.청도군     2\n",
       "Name: second_div, dtype: int64"
      ]
     },
     "execution_count": 645,
     "metadata": {},
     "output_type": "execute_result"
    }
   ],
   "source": [
    "gsangbuk.second_div.value_counts()"
   ]
  },
  {
   "cell_type": "markdown",
   "metadata": {},
   "source": [
    "## 정성평가"
   ]
  },
  {
   "cell_type": "code",
   "execution_count": 662,
   "metadata": {
    "gather": {
     "logged": 1665908347805
    },
    "jupyter": {
     "outputs_hidden": false,
     "source_hidden": false
    },
    "nteract": {
     "transient": {
      "deleting": false
     }
    }
   },
   "outputs": [
    {
     "name": "stdout",
     "output_type": "stream",
     "text": [
      "-------청송군------\n",
      "경상북도.청송군 과  경상북도.봉화군 의 평균 시간차:  2 days, 1:42:51.428571 \n",
      " 7 일이내 연속 발생건수:  14\n",
      "경상북도.청송군 과  경상북도.영덕군 의 평균 시간차:  12 days, 1:42:51.428571 \n",
      " 7 일이내 연속 발생건수:  9\n",
      "경상북도.청송군 과  경상북도.의성군 의 평균 시간차:  24 days, 0:00:00 \n",
      " 7 일이내 연속 발생건수:  5\n",
      "------봉화군은 어디로?----\n",
      "경상북도.영덕군 과  경상북도.봉화군 의 평균 시간차:  21 days, 10:54:32.727273 \n",
      " 7 일이내 연속 발생건수:  15\n",
      "경상북도.의성군 과  경상북도.봉화군 의 평균 시간차:  26 days, 9:45:00 \n",
      " 7 일이내 연속 발생건수:  18\n",
      "경상북도.영덕군 과  경상북도.봉화군 의 평균 시간차:  21 days, 10:54:32.727273 \n",
      " 5 일이내 연속 발생건수:  15\n",
      "경상북도.의성군 과  경상북도.봉화군 의 평균 시간차:  26 days, 9:45:00 \n",
      " 5 일이내 연속 발생건수:  15\n",
      "-----영천시------\n",
      "경상북도.영천시 과  경상북도.봉화군 의 평균 시간차:  32 days, 9:00:00 \n",
      " 7 일이내 연속 발생건수:  4\n",
      "경상북도.영천시 과  경상북도.영덕군 의 평균 시간차:  73 days, 12:00:00 \n",
      " 7 일이내 연속 발생건수:  2\n",
      "경상북도.영천시 과  경상북도.의성군 의 평균 시간차:  21 days, 3:00:00 \n",
      " 7 일이내 연속 발생건수:  6\n",
      "경상북도.영천시 과  경상북도.경주시 의 평균 시간차:  46 days, 15:00:00 \n",
      " 7 일이내 연속 발생건수:  0\n",
      "----영덕군 부류-----\n",
      "경상북도.김천시 과  경상북도.영덕군 의 평균 시간차:  10 days, 0:00:00 \n",
      " 7 일이내 연속 발생건수:  5\n",
      "경상북도.문경시 과  경상북도.영덕군 의 평균 시간차:  19 days, 7:34:44.210526 \n",
      " 7 일이내 연속 발생건수:  11\n",
      "경상북도.상주시 과  경상북도.영덕군 의 평균 시간차:  94 days, 15:16:21.818182 \n",
      " 7 일이내 연속 발생건수:  4\n",
      "경상북도.구미시 과  경상북도.영덕군 의 평균 시간차:  165 days, 8:00:00 \n",
      " 7 일이내 연속 발생건수:  1\n",
      "경상북도.영주시 과  경상북도.영덕군 의 평균 시간차:  93 days, 15:00:00 \n",
      " 7 일이내 연속 발생건수:  6\n",
      "-----구미시------\n",
      "경상북도.구미시 과  경상북도.문경시 의 평균 시간차:  236 days, 12:00:00 \n",
      " 7 일이내 연속 발생건수:  0\n",
      "경상북도.구미시 과  경상북도.상주시 의 평균 시간차:  52 days, 8:00:00 \n",
      " 7 일이내 연속 발생건수:  0\n",
      "경상북도.구미시 과  경상북도.칠곡군 의 평균 시간차:  99 days, 16:00:00 \n",
      " 7 일이내 연속 발생건수:  0\n",
      "경상북도.구미시 과  경상북도.의성군 의 평균 시간차:  32 days, 4:00:00 \n",
      " 7 일이내 연속 발생건수:  1\n",
      "----v포항시와 경주시-------\n",
      "경상북도.포항시 과  경상북도.경주시 의 평균 시간차:  31 days, 16:00:00 \n",
      " 7 일이내 연속 발생건수:  4\n",
      "-----의성군 부류------\n",
      "경상북도.영양군 과  경상북도.의성군 의 평균 시간차:  46 days, 19:12:00 \n",
      " 5 일이내 연속 발생건수:  2\n",
      "경상북도.영양군 과  경상북도.영덕군 의 평균 시간차:  45 days, 21:36:00 \n",
      " 5 일이내 연속 발생건수:  3\n",
      "경상북도.예천군 과  경상북도.의성군 의 평균 시간차:  19 days, 17:08:34.285714 \n",
      " 7 일이내 연속 발생건수:  2\n"
     ]
    }
   ],
   "source": [
    "print(\"-------청송군------\")\n",
    "compare(df_gsangbuk, '경상북도.청송군', '경상북도.봉화군')\n",
    "compare(df_gsangbuk, '경상북도.청송군', '경상북도.영덕군')#청송군은 봉화군 소속으로 봐야한다.\n",
    "compare(df_gsangbuk, '경상북도.청송군', '경상북도.의성군')\n",
    "print(\"------봉화군----\")\n",
    "compare(df_gsangbuk, '경상북도.영덕군', '경상북도.봉화군')\n",
    "compare(df_gsangbuk, '경상북도.의성군', '경상북도.봉화군')#발생선수는 의성군이 더 많은데 평균시간차는 영덕군이 더 빠르다.\n",
    "compare(df_gsangbuk, '경상북도.영덕군', '경상북도.봉화군', 5)#기준이 모호하니 발생건수기준을 좁혀서 다시 구해본다. \n",
    "compare(df_gsangbuk, '경상북도.의성군', '경상북도.봉화군', 5)#의성군보다 봉화군과의 교류가 빠르다. 봉화군은 영덕군 쪽이라고 볼 수 있다.\n",
    "print(\"-----영천시------\") #빼박 의성군이다\n",
    "compare(df_gsangbuk, '경상북도.영천시', '경상북도.봉화군')\n",
    "compare(df_gsangbuk, '경상북도.영천시', '경상북도.영덕군')#영천시는 영덕군보다 봉화군의 영향을 받는 쪽이다.\n",
    "compare(df_gsangbuk, '경상북도.영천시', '경상북도.의성군')#봉화군보다는 의성군의 영향을 받는 쪽이다. \n",
    "compare(df_gsangbuk, '경상북도.영천시', '경상북도.경주시') \n",
    "\n",
    "print('----영덕군 부류-----')\n",
    "compare(df_gsangbuk, '경상북도.김천시', '경상북도.영덕군')\n",
    "compare(df_gsangbuk, '경상북도.문경시', '경상북도.영덕군')\n",
    "compare(df_gsangbuk, '경상북도.상주시', '경상북도.영덕군')\n",
    "compare(df_gsangbuk, '경상북도.구미시', '경상북도.영덕군')\n",
    "compare(df_gsangbuk, '경상북도.영주시', '경상북도.영덕군')\n",
    "#구미시 빼고 다 영덕군 부류로 묶는다.\n",
    "print(\"-----구미시------\")\n",
    "compare(df_gsangbuk, '경상북도.구미시', '경상북도.문경시')\n",
    "compare(df_gsangbuk, '경상북도.구미시', '경상북도.상주시')\n",
    "compare(df_gsangbuk, '경상북도.구미시', '경상북도.칠곡군')\n",
    "compare(df_gsangbuk, '경상북도.구미시', '경상북도.의성군') #구미시는 어디에도 포함시키지 않는다. \n",
    "\n",
    "\n",
    "print('----v포항시와 경주시-------')\n",
    "compare(df_gsangbuk, '경상북도.포항시', '경상북도.경주시')\n",
    "\n",
    "print(\"-----의성군 부류------\")\n",
    "compare(df_gsangbuk, '경상북도.영양군', '경상북도.의성군', 5)\n",
    "compare(df_gsangbuk, '경상북도.영양군', '경상북도.영덕군', 5)#영양군은 의성군과 영덕군 모두에서 동등한 비교값을 가진다\n",
    "compare(df_gsangbuk, '경상북도.예천군', '경상북도.의성군')\n"
   ]
  },
  {
   "cell_type": "markdown",
   "metadata": {
    "nteract": {
     "transient": {
      "deleting": false
     }
    }
   },
   "source": [
    "### 경상북도 지역 분류 결론\n",
    "경상북도는 너무 서로간에 연관성이 깊다. 두 분류로 나눌려고 해도 두 분류 모두 들어가는 지역이 많아서 그냥 부류를 합치기로 한다. \n",
    "예를 들어 의성군을 중심으로 하는 영천시, 영양군, 예천군 분류는 가운데 안동시를 끼고 있는 구조이다.\n",
    "안동시는 비록 이들과 다른 부류에 속해있지만 안동시와 각 부류값의 연관성을 매우 깊다. 따라서 이 경우 dtw 계산 순서를 미리 정한 것의 한계라고 생각하고 두 부류를 하나로 합치기로 한다."
   ]
  },
  {
   "cell_type": "markdown",
   "metadata": {
    "nteract": {
     "transient": {
      "deleting": false
     }
    }
   },
   "source": [
    "# 전라남도"
   ]
  },
  {
   "cell_type": "code",
   "execution_count": 54,
   "metadata": {},
   "outputs": [
    {
     "name": "stderr",
     "output_type": "stream",
     "text": [
      "C:\\Users\\localadmin\\AppData\\Local\\Temp\\ipykernel_8916\\625444845.py:8: SettingWithCopyWarning: \n",
      "A value is trying to be set on a copy of a slice from a DataFrame\n",
      "\n",
      "See the caveats in the documentation: https://pandas.pydata.org/pandas-docs/stable/user_guide/indexing.html#returning-a-view-versus-a-copy\n",
      "  df[col][i]=df[col][i]+old_df.num[j]\n"
     ]
    }
   ],
   "source": [
    "df_jnam=reform(df_jnam, jnam, dates)\n",
    "df_jnam.to_csv(\"C:/Users/localadmin/Desktop/data/eda data/df_jnam.csv\", encoding='utf-8-sig')"
   ]
  },
  {
   "cell_type": "code",
   "execution_count": 55,
   "metadata": {
    "gather": {
     "logged": 1666419545991
    },
    "jupyter": {
     "outputs_hidden": false,
     "source_hidden": false
    },
    "nteract": {
     "transient": {
      "deleting": false
     }
    }
   },
   "outputs": [
    {
     "name": "stdout",
     "output_type": "stream",
     "text": [
      "남은 지역들 중 감염개체 발생건수가 가장 많은 지역:  전라남도.보성군\n",
      "전라남도.강진군 와  전라남도.보성군 의 동적시간와핑 손실:  319.839\n",
      "전라남도.고흥군 와  전라남도.보성군 의 동적시간와핑 손실:  251.076\n",
      "전라남도.곡성군 와  전라남도.보성군 의 동적시간와핑 손실:  231.305\n",
      "전라남도.광양시 와  전라남도.보성군 의 동적시간와핑 손실:  263.953\n",
      "전라남도.구례군 와  전라남도.보성군 의 동적시간와핑 손실:  226.949\n",
      "전라남도.나주시 와  전라남도.보성군 의 동적시간와핑 손실:  319.532\n",
      "전라남도.담양군 와  전라남도.보성군 의 동적시간와핑 손실:  293.467\n",
      "자기자신 계산\n",
      "전라남도.순천시 와  전라남도.보성군 의 동적시간와핑 손실:  261.708\n",
      "전라남도.영광군 와  전라남도.보성군 의 동적시간와핑 손실:  192.271\n",
      "전라남도.영암군 와  전라남도.보성군 의 동적시간와핑 손실:  276.375\n",
      "전라남도.완도군 와  전라남도.보성군 의 동적시간와핑 손실:  238.162\n",
      "전라남도.장성군 와  전라남도.보성군 의 동적시간와핑 손실:  321.378\n",
      "전라남도.장흥군 와  전라남도.보성군 의 동적시간와핑 손실:  258.0\n",
      "전라남도.진도군 와  전라남도.보성군 의 동적시간와핑 손실:  119.512\n",
      "전라남도.함평군 와  전라남도.보성군 의 동적시간와핑 손실:  309.053\n",
      "전라남도.해남군 와  전라남도.보성군 의 동적시간와핑 손실:  229.223\n",
      "전라남도.화순군 와  전라남도.보성군 의 동적시간와핑 손실:  218.838\n",
      "전라남도.보성군 과 같은 범주로 묶인 지역들:  ['전라남도.곡성군', '전라남도.구례군', '전라남도.영광군', '전라남도.진도군', '전라남도.해남군', '전라남도.화순군']\n",
      "남은 지역들 중 감염개체 발생건수가 가장 많은 지역:  전라남도.완도군\n",
      "전라남도.함평군 와  전라남도.완도군 의 동적시간와핑 손실:  89.538\n",
      "전라남도.광양시 와  전라남도.완도군 의 동적시간와핑 손실:  50.882\n",
      "전라남도.순천시 와  전라남도.완도군 의 동적시간와핑 손실:  61.0\n",
      "전라남도.영암군 와  전라남도.완도군 의 동적시간와핑 손실:  70.838\n",
      "전라남도.담양군 와  전라남도.완도군 의 동적시간와핑 손실:  78.848\n",
      "전라남도.고흥군 와  전라남도.완도군 의 동적시간와핑 손실:  40.632\n",
      "자기자신 계산\n",
      "전라남도.강진군 와  전라남도.완도군 의 동적시간와핑 손실:  102.552\n",
      "전라남도.장흥군 와  전라남도.완도군 의 동적시간와핑 손실:  61.66\n",
      "전라남도.나주시 와  전라남도.완도군 의 동적시간와핑 손실:  102.181\n",
      "전라남도.장성군 와  전라남도.완도군 의 동적시간와핑 손실:  103.706\n",
      "전라남도.완도군 과 같은 범주로 묶인 지역들:  ['전라남도.광양시', '전라남도.순천시', '전라남도.고흥군', '전라남도.장흥군']\n",
      "남은 지역들 중 감염개체 발생건수가 가장 많은 지역:  전라남도.영암군\n",
      "전라남도.함평군 와  전라남도.영암군 의 동적시간와핑 손실:  39.306\n",
      "자기자신 계산\n",
      "전라남도.담양군 와  전라남도.영암군 의 동적시간와핑 손실:  21.564\n",
      "전라남도.강진군 와  전라남도.영암군 의 동적시간와핑 손실:  48.031\n",
      "전라남도.나주시 와  전라남도.영암군 의 동적시간와핑 손실:  48.073\n",
      "전라남도.장성군 와  전라남도.영암군 의 동적시간와핑 손실:  49.0\n",
      "전라남도.영암군 과 같은 범주로 묶인 지역들:  ['전라남도.담양군']\n",
      "남은 지역들 중 감염개체 발생건수가 가장 많은 지역:  전라남도.함평군\n",
      "전라남도.나주시 와  전라남도.함평군 의 동적시간와핑 손실:  13.038\n",
      "자기자신 계산\n",
      "전라남도.강진군 와  전라남도.함평군 의 동적시간와핑 손실:  13.565\n",
      "전라남도.장성군 와  전라남도.함평군 의 동적시간와핑 손실:  14.765\n",
      "전라남도.함평군 과 같은 범주로 묶인 지역들:  ['전라남도.나주시']\n",
      "남은 지역들:  ['전라남도.강진군', '전라남도.장성군']\n"
     ]
    }
   ],
   "source": [
    "division_jnam=dtw_function(df_jnam)"
   ]
  },
  {
   "cell_type": "code",
   "execution_count": 663,
   "metadata": {
    "gather": {
     "logged": 1665908911225
    },
    "jupyter": {
     "outputs_hidden": false,
     "source_hidden": false
    },
    "nteract": {
     "transient": {
      "deleting": false
     }
    }
   },
   "outputs": [
    {
     "data": {
      "text/plain": [
       "전라남도.보성군    44\n",
       "전라남도.곡성군    35\n",
       "전라남도.화순군    30\n",
       "전라남도.순천시    20\n",
       "전라남도.광양시    17\n",
       "전라남도.완도군    16\n",
       "전라남도.함평군    11\n",
       "전라남도.고흥군    10\n",
       "전라남도.구례군     8\n",
       "전라남도.담양군     6\n",
       "전라남도.영광군     6\n",
       "전라남도.나주시     5\n",
       "전라남도.해남군     5\n",
       "전라남도.장흥군     4\n",
       "전라남도.강진군     4\n",
       "전라남도.장성군     1\n",
       "전라남도.진도군     1\n",
       "전라남도.영암군     1\n",
       "Name: second_div, dtype: int64"
      ]
     },
     "execution_count": 663,
     "metadata": {},
     "output_type": "execute_result"
    }
   ],
   "source": [
    "jnam.second_div.value_counts()"
   ]
  },
  {
   "cell_type": "markdown",
   "metadata": {},
   "source": [
    "## 정성평가"
   ]
  },
  {
   "cell_type": "code",
   "execution_count": 683,
   "metadata": {
    "gather": {
     "logged": 1665910579095
    },
    "jupyter": {
     "outputs_hidden": false,
     "source_hidden": false
    },
    "nteract": {
     "transient": {
      "deleting": false
     }
    }
   },
   "outputs": [
    {
     "name": "stdout",
     "output_type": "stream",
     "text": [
      "----보성군------\n",
      "전라남도.고흥군 과  전라남도.곡성군 의 평균 시간차:  58 days, 7:12:00 \n",
      " 7 일이내 연속 발생건수:  2\n",
      "전라남도.순천시 과  전라남도.곡성군 의 평균 시간차:  65 days, 10:48:00 \n",
      " 7 일이내 연속 발생건수:  3\n",
      "전라남도.광양시 과  전라남도.곡성군 의 평균 시간차:  21 days, 10:17:08.571429 \n",
      " 7 일이내 연속 발생건수:  5\n",
      "전라남도.고흥군 과  전라남도.보성군 의 평균 시간차:  53 days, 0:00:00 \n",
      " 7 일이내 연속 발생건수:  3\n",
      "전라남도.순천시 과  전라남도.보성군 의 평균 시간차:  51 days, 1:12:00 \n",
      " 7 일이내 연속 발생건수:  5\n",
      "전라남도.광양시 과  전라남도.보성군 의 평균 시간차:  22 days, 12:00:00 \n",
      " 7 일이내 연속 발생건수:  3\n",
      "전라남도.곡성군 과  전라남도.보성군 의 평균 시간차:  55 days, 8:48:00 \n",
      " 7 일이내 연속 발생건수:  12\n",
      "전라남도.나주시 과  전라남도.보성군 의 평균 시간차:  31 days, 4:48:00 \n",
      " 7 일이내 연속 발생건수:  1\n",
      "전라남도.구례군 과  전라남도.보성군 의 평균 시간차:  28 days, 6:51:25.714286 \n",
      " 7 일이내 연속 발생건수:  3\n",
      "-----완도군------\n",
      "전라남도.해남군 과  전라남도.완도군 의 평균 시간차:  164 days, 19:12:00 \n",
      " 7 일이내 연속 발생건수:  0\n",
      "전라남도.강진군 과  전라남도.완도군 의 평균 시간차:  334 days, 0:00:00 \n",
      " 7 일이내 연속 발생건수:  0\n",
      "전라남도.장흥군 과  전라남도.완도군 의 평균 시간차:  182 days, 18:00:00 \n",
      " 7 일이내 연속 발생건수:  1\n",
      "전라남도.완도군 과  전라남도.고흥군 의 평균 시간차:  39 days, 10:40:00 \n",
      " 7 일이내 연속 발생건수:  2\n",
      "-----함평군--------\n",
      "전라남도.나주시 과  전라남도.함평군 의 평균 시간차:  182 days, 9:36:00 \n",
      " 7 일이내 연속 발생건수:  3\n",
      "전라남도.장성군 과  전라남도.함평군 의 평균 시간차:  637 days, 0:00:00 \n",
      " 7 일이내 연속 발생건수:  0\n",
      "전라남도.영광군 과  전라남도.함평군 의 평균 시간차:  375 days, 0:00:00 \n",
      " 7 일이내 연속 발생건수:  1\n",
      "전라남도.함평군 과  전라남도.보성군 의 평균 시간차:  15 days, 3:00:00 \n",
      " 7 일이내 연속 발생건수:  5\n",
      "-----나주시-------\n",
      "전라남도.나주시 과  전라남도.화순군 의 평균 시간차:  40 days, 4:48:00 \n",
      " 7 일이내 연속 발생건수:  1\n",
      "전라남도.장흥군 과  전라남도.화순군 의 평균 시간차:  95 days, 6:00:00 \n",
      " 7 일이내 연속 발생건수:  2\n"
     ]
    }
   ],
   "source": [
    "print(\"----보성군------\")\n",
    "compare(df_jnam, '전라남도.고흥군', '전라남도.곡성군')\n",
    "compare(df_jnam, '전라남도.순천시', '전라남도.곡성군')\n",
    "compare(df_jnam, '전라남도.광양시', '전라남도.곡성군')\n",
    "compare(df_jnam, '전라남도.고흥군', '전라남도.보성군')\n",
    "compare(df_jnam, '전라남도.순천시', '전라남도.보성군')\n",
    "compare(df_jnam, '전라남도.광양시', '전라남도.보성군')\n",
    "compare(df_jnam, '전라남도.곡성군', '전라남도.보성군')\n",
    "compare(df_jnam, '전라남도.나주시', '전라남도.보성군')\n",
    "compare(df_jnam, '전라남도.구례군', '전라남도.보성군') #거의다 보성으로 묶인다.\n",
    "\n",
    "print(\"-----완도군------\")\n",
    "compare(df_jnam, '전라남도.해남군', '전라남도.완도군')\n",
    "compare(df_jnam, '전라남도.강진군', '전라남도.완도군')\n",
    "compare(df_jnam, '전라남도.장흥군', '전라남도.완도군')\n",
    "compare(df_jnam, '전라남도.완도군', '전라남도.고흥군')#완도군이랑 연관된 것 없다.\n",
    "\n",
    "print('-----함평군--------')\n",
    "compare(df_jnam, '전라남도.나주시', '전라남도.함평군')\n",
    "compare(df_jnam, '전라남도.장성군', '전라남도.함평군')\n",
    "compare(df_jnam, '전라남도.영광군', '전라남도.함평군')#함평군이랑 그나마 연관된게 나주시, \n",
    "compare(df_jnam, '전라남도.함평군', '전라남도.보성군')#함평군이랑 보성군 매우 관련 깊음. \n",
    "\n",
    "print('-----나주시-------')\n",
    "compare(df_jnam, '전라남도.나주시', '전라남도.화순군')\n",
    "compare(df_jnam, '전라남도.장흥군', '전라남도.화순군')\n",
    "\n"
   ]
  },
  {
   "cell_type": "markdown",
   "metadata": {
    "nteract": {
     "transient": {
      "deleting": false
     }
    }
   },
   "source": [
    "# 전라북도"
   ]
  },
  {
   "cell_type": "code",
   "execution_count": 57,
   "metadata": {},
   "outputs": [
    {
     "name": "stderr",
     "output_type": "stream",
     "text": [
      "C:\\Users\\localadmin\\AppData\\Local\\Temp\\ipykernel_8916\\625444845.py:8: SettingWithCopyWarning: \n",
      "A value is trying to be set on a copy of a slice from a DataFrame\n",
      "\n",
      "See the caveats in the documentation: https://pandas.pydata.org/pandas-docs/stable/user_guide/indexing.html#returning-a-view-versus-a-copy\n",
      "  df[col][i]=df[col][i]+old_df.num[j]\n"
     ]
    }
   ],
   "source": [
    "df_jbuk=reform(df_jbuk, jbuk, dates)\n",
    "df_jbuk.to_csv(\"C:/Users/localadmin/Desktop/data/eda data/df_jbuk.csv\", encoding='utf-8-sig')"
   ]
  },
  {
   "cell_type": "code",
   "execution_count": 526,
   "metadata": {
    "gather": {
     "logged": 1665880412772
    },
    "jupyter": {
     "outputs_hidden": false,
     "source_hidden": false
    },
    "nteract": {
     "transient": {
      "deleting": false
     }
    }
   },
   "outputs": [
    {
     "name": "stderr",
     "output_type": "stream",
     "text": [
      "/tmp/ipykernel_653992/869532764.py:8: SettingWithCopyWarning: \n",
      "A value is trying to be set on a copy of a slice from a DataFrame\n",
      "\n",
      "See the caveats in the documentation: https://pandas.pydata.org/pandas-docs/stable/user_guide/indexing.html#returning-a-view-versus-a-copy\n",
      "  df[col][i]=df[col][i]+old_df.num[j]\n"
     ]
    },
    {
     "name": "stdout",
     "output_type": "stream",
     "text": [
      "남은 지역들 중 감염개체 발생건수가 가장 많은 지역:  전라북도.임실군\n",
      "전라북도.고창군 와  전라북도.임실군 의 동적시간와핑 손실:  854.408\n",
      "전라북도.군산시 와  전라북도.임실군 의 동적시간와핑 손실:  848.869\n",
      "전라북도.남원시 와  전라북도.임실군 의 동적시간와핑 손실:  702.78\n",
      "전라북도.무주군 와  전라북도.임실군 의 동적시간와핑 손실:  863.708\n",
      "전라북도.부안군 와  전라북도.임실군 의 동적시간와핑 손실:  820.024\n",
      "전라북도.완주군 와  전라북도.임실군 의 동적시간와핑 손실:  667.526\n",
      "자기자신 계산\n",
      "전라북도.장수군 와  전라북도.임실군 의 동적시간와핑 손실:  830.542\n",
      "전라북도.전주시 와  전라북도.임실군 의 동적시간와핑 손실:  835.296\n",
      "전라북도.정읍시 와  전라북도.임실군 의 동적시간와핑 손실:  834.912\n",
      "전라북도.진안군 와  전라북도.임실군 의 동적시간와핑 손실:  807.068\n",
      "전라북도.남원시\n",
      "전라북도.완주군\n",
      "전라북도.임실군 과 같은 범주로 묶인 지역들:  ['전라북도.남원시', '전라북도.완주군']\n",
      "남은 지역들 중 감염개체 발생건수가 가장 많은 지역:  전라북도.진안군\n",
      "전라북도.정읍시 와  전라북도.진안군 의 동적시간와핑 손실:  102.054\n",
      "전라북도.군산시 와  전라북도.진안군 의 동적시간와핑 손실:  70.817\n",
      "전라북도.고창군 와  전라북도.진안군 의 동적시간와핑 손실:  63.914\n",
      "전라북도.무주군 와  전라북도.진안군 의 동적시간와핑 손실:  68.702\n",
      "전라북도.장수군 와  전라북도.진안군 의 동적시간와핑 손실:  44.306\n",
      "전라북도.부안군 와  전라북도.진안군 의 동적시간와핑 손실:  36.304\n",
      "전라북도.전주시 와  전라북도.진안군 의 동적시간와핑 손실:  46.808\n",
      "자기자신 계산\n",
      "전라북도.장수군\n",
      "전라북도.부안군\n",
      "전라북도.전주시\n",
      "전라북도.진안군 과 같은 범주로 묶인 지역들:  ['전라북도.장수군', '전라북도.부안군', '전라북도.전주시']\n",
      "남은 지역들 중 감염개체 발생건수가 가장 많은 지역:  전라북도.정읍시\n",
      "전라북도.무주군 와  전라북도.정읍시 의 동적시간와핑 손실:  104.005\n",
      "자기자신 계산\n",
      "전라북도.군산시 와  전라북도.정읍시 의 동적시간와핑 손실:  50.0\n",
      "전라북도.고창군 와  전라북도.정읍시 의 동적시간와핑 손실:  78.006\n",
      "전라북도.군산시\n",
      "전라북도.정읍시 과 같은 범주로 묶인 지역들:  ['전라북도.군산시']\n",
      "남은 지역들:  ['전라북도.무주군', '전라북도.고창군']\n"
     ]
    }
   ],
   "source": [
    "division_jbuk=dtw_function(df_jbuk)"
   ]
  },
  {
   "cell_type": "code",
   "execution_count": 684,
   "metadata": {
    "gather": {
     "logged": 1665910751228
    },
    "jupyter": {
     "outputs_hidden": false,
     "source_hidden": false
    },
    "nteract": {
     "transient": {
      "deleting": false
     }
    }
   },
   "outputs": [
    {
     "data": {
      "text/plain": [
       "전라북도.임실군    69\n",
       "전라북도.남원시    29\n",
       "전라북도.완주군    14\n",
       "전라북도.진안군    14\n",
       "전라북도.장수군    11\n",
       "전라북도.부안군     8\n",
       "전라북도.전주시     5\n",
       "전라북도.무주군     3\n",
       "전라북도.고창군     2\n",
       "전라북도.정읍시     1\n",
       "전라북도.군산시     1\n",
       "Name: second_div, dtype: int64"
      ]
     },
     "execution_count": 684,
     "metadata": {},
     "output_type": "execute_result"
    }
   ],
   "source": [
    "jbuk.second_div.value_counts()"
   ]
  },
  {
   "cell_type": "markdown",
   "metadata": {},
   "source": [
    "## 정성평가"
   ]
  },
  {
   "cell_type": "code",
   "execution_count": 691,
   "metadata": {
    "gather": {
     "logged": 1665911564623
    },
    "jupyter": {
     "outputs_hidden": false,
     "source_hidden": false
    },
    "nteract": {
     "transient": {
      "deleting": false
     }
    }
   },
   "outputs": [
    {
     "name": "stdout",
     "output_type": "stream",
     "text": [
      "-------진안군-------\n",
      "전라북도.진안군 과  전라북도.임실군 의 평균 시간차:  7 days, 3:41:32.307692 \n",
      " 7 일이내 연속 발생건수:  8\n",
      "------전주시------\n",
      "전라북도.전주시 과  전라북도.완주군 의 평균 시간차:  16 days, 14:24:00 \n",
      " 7 일이내 연속 발생건수:  1\n",
      "전라북도.전주시 과  전라북도.완주군 의 평균 시간차:  16 days, 14:24:00 \n",
      " 10 일이내 연속 발생건수:  2\n",
      "전라북도.장수군 과  전라북도.진안군 의 평균 시간차:  14 days, 21:49:05.454545 \n",
      " 7 일이내 연속 발생건수:  4\n",
      "전라북도.남원시 과  전라북도.임실군 의 평균 시간차:  7 days, 21:20:00 \n",
      " 7 일이내 연속 발생건수:  17\n",
      "전라북도.완주군 과  전라북도.임실군 의 평균 시간차:  8 days, 7:23:04.615385 \n",
      " 7 일이내 연속 발생건수:  7\n",
      "----나머지 매우 낮은 값들-----\n",
      "전라북도.정읍시 과  전라북도.임실군 의 평균 시간차:  4 days, 0:00:00 \n",
      " 7 일이내 연속 발생건수:  1\n",
      "전라북도.고창군 과  전라북도.임실군 의 평균 시간차:  5 days, 0:00:00 \n",
      " 7 일이내 연속 발생건수:  2\n",
      "전라북도.무주군 과  전라북도.임실군 의 평균 시간차:  2 days, 12:00:00 \n",
      " 7 일이내 연속 발생건수:  2\n",
      "전라북도.군산시 과  전라북도.임실군 의 평균 시간차:  1 day, 0:00:00 \n",
      " 7 일이내 연속 발생건수:  1\n"
     ]
    }
   ],
   "source": [
    "print('-------진안군-------')\n",
    "compare(df_jbuk, '전라북도.진안군', '전라북도.임실군')\n",
    "print('------전주시------')\n",
    "compare(df_jbuk, '전라북도.전주시', '전라북도.완주군')\n",
    "compare(df_jbuk, '전라북도.전주시', '전라북도.완주군', 10)\n",
    "\n",
    "compare(df_jbuk, '전라북도.장수군', '전라북도.진안군')  #진안군과 임실군은 매우 관련깊게 나온다. 평균 시간차가 7일... 근데 \n",
    "compare(df_jbuk, '전라북도.남원시', '전라북도.임실군')  #진안군과 임실군은 매우 관련깊게 나온다. 평균 시간차가 7일... 근데\n",
    "compare(df_jbuk, '전라북도.완주군', '전라북도.임실군')  \n",
    "\n",
    "#전체적으로 서로 매우 깊게 연관되어있다. 함수값이 다른 지역에 비해 손실이 적은편이나 정규분포의 무작위 샘플이라는 가정에 의해 안타깝게 dtw에서 분리당한것같다.\n",
    "#따라서 하나로 묶어도 무리없다. \n",
    "print('----나머지 매우 낮은 값들-----')\n",
    "compare(df_jbuk, '전라북도.정읍시', '전라북도.임실군')\n",
    "compare(df_jbuk, '전라북도.고창군', '전라북도.임실군')\n",
    "compare(df_jbuk, '전라북도.무주군', '전라북도.임실군')\n",
    "compare(df_jbuk, '전라북도.군산시', '전라북도.임실군') #그냥 누가봐도 임실군이랑 관련있다. "
   ]
  },
  {
   "cell_type": "markdown",
   "metadata": {
    "nteract": {
     "transient": {
      "deleting": false
     }
    }
   },
   "source": [
    "# 충청남도"
   ]
  },
  {
   "cell_type": "code",
   "execution_count": 58,
   "metadata": {},
   "outputs": [
    {
     "name": "stderr",
     "output_type": "stream",
     "text": [
      "C:\\Users\\localadmin\\AppData\\Local\\Temp\\ipykernel_8916\\625444845.py:8: SettingWithCopyWarning: \n",
      "A value is trying to be set on a copy of a slice from a DataFrame\n",
      "\n",
      "See the caveats in the documentation: https://pandas.pydata.org/pandas-docs/stable/user_guide/indexing.html#returning-a-view-versus-a-copy\n",
      "  df[col][i]=df[col][i]+old_df.num[j]\n"
     ]
    }
   ],
   "source": [
    "df_ccnam=reform(df_ccnam, ccnam, dates)\n",
    "df_ccnam.to_csv(\"C:/Users/localadmin/Desktop/data/eda data/df_ccnam.csv\", encoding='utf-8-sig')"
   ]
  },
  {
   "cell_type": "code",
   "execution_count": 527,
   "metadata": {
    "gather": {
     "logged": 1665882552941
    },
    "jupyter": {
     "outputs_hidden": false,
     "source_hidden": false
    },
    "nteract": {
     "transient": {
      "deleting": false
     }
    }
   },
   "outputs": [
    {
     "name": "stderr",
     "output_type": "stream",
     "text": [
      "/tmp/ipykernel_653992/869532764.py:8: SettingWithCopyWarning: \n",
      "A value is trying to be set on a copy of a slice from a DataFrame\n",
      "\n",
      "See the caveats in the documentation: https://pandas.pydata.org/pandas-docs/stable/user_guide/indexing.html#returning-a-view-versus-a-copy\n",
      "  df[col][i]=df[col][i]+old_df.num[j]\n"
     ]
    },
    {
     "name": "stdout",
     "output_type": "stream",
     "text": [
      "남은 지역들 중 감염개체 발생건수가 가장 많은 지역:  충청남도.천안시\n",
      "충청남도.계룡시 와  충청남도.천안시 의 동적시간와핑 손실:  324.874\n",
      "충청남도.공주시 와  충청남도.천안시 의 동적시간와핑 손실:  155.92\n",
      "충청남도.금산군 와  충청남도.천안시 의 동적시간와핑 손실:  130.342\n",
      "충청남도.당진시 와  충청남도.천안시 의 동적시간와핑 손실:  156.704\n",
      "충청남도.부여군 와  충청남도.천안시 의 동적시간와핑 손실:  101.464\n",
      "충청남도.서산시 와  충청남도.천안시 의 동적시간와핑 손실:  100.812\n",
      "충청남도.서천군 와  충청남도.천안시 의 동적시간와핑 손실:  131.924\n",
      "충청남도.아산시 와  충청남도.천안시 의 동적시간와핑 손실:  208.593\n",
      "자기자신 계산\n",
      "충청남도.청양군 와  충청남도.천안시 의 동적시간와핑 손실:  232.149\n",
      "충청남도.금산군\n",
      "충청남도.부여군\n",
      "충청남도.서산시\n",
      "충청남도.서천군\n",
      "충청남도.천안시 과 같은 범주로 묶인 지역들:  ['충청남도.금산군', '충청남도.부여군', '충청남도.서산시', '충청남도.서천군']\n",
      "남은 지역들 중 감염개체 발생건수가 가장 많은 지역:  충청남도.계룡시\n",
      "충청남도.아산시 와  충청남도.계룡시 의 동적시간와핑 손실:  130.1\n",
      "충청남도.당진시 와  충청남도.계룡시 의 동적시간와핑 손실:  397.003\n",
      "자기자신 계산\n",
      "충청남도.공주시 와  충청남도.계룡시 의 동적시간와핑 손실:  395.001\n",
      "충청남도.청양군 와  충청남도.계룡시 의 동적시간와핑 손실:  102.225\n",
      "충청남도.아산시\n",
      "충청남도.청양군\n",
      "충청남도.계룡시 과 같은 범주로 묶인 지역들:  ['충청남도.아산시', '충청남도.청양군']\n",
      "남은 지역들:  ['충청남도.공주시', '충청남도.당진시']\n"
     ]
    }
   ],
   "source": [
    "division_ccnam=dtw_function(df_ccnam)"
   ]
  },
  {
   "cell_type": "code",
   "execution_count": 692,
   "metadata": {
    "gather": {
     "logged": 1665911601355
    },
    "jupyter": {
     "outputs_hidden": false,
     "source_hidden": false
    },
    "nteract": {
     "transient": {
      "deleting": false
     }
    }
   },
   "outputs": [
    {
     "data": {
      "text/plain": [
       "충청남도.천안시    16\n",
       "충청남도.서산시     7\n",
       "충청남도.부여군     6\n",
       "충청남도.청양군     5\n",
       "충청남도.당진시     3\n",
       "충청남도.금산군     3\n",
       "충청남도.서천군     3\n",
       "충청남도.아산시     3\n",
       "충청남도.공주시     2\n",
       "충청남도.계룡시     1\n",
       "Name: second_div, dtype: int64"
      ]
     },
     "execution_count": 692,
     "metadata": {},
     "output_type": "execute_result"
    }
   ],
   "source": [
    "ccnam.second_div.value_counts()"
   ]
  },
  {
   "cell_type": "markdown",
   "metadata": {},
   "source": [
    "## 정성평가"
   ]
  },
  {
   "cell_type": "code",
   "execution_count": 695,
   "metadata": {
    "gather": {
     "logged": 1665911933568
    },
    "jupyter": {
     "outputs_hidden": false,
     "source_hidden": false
    },
    "nteract": {
     "transient": {
      "deleting": false
     }
    }
   },
   "outputs": [
    {
     "name": "stdout",
     "output_type": "stream",
     "text": [
      "-----천안시-----\n",
      "충청남도.아산시 과  충청남도.천안시 의 평균 시간차:  50 days, 0:00:00 \n",
      " 7 일이내 연속 발생건수:  0\n",
      "충청남도.청양군 과  충청남도.천안시 의 평균 시간차:  39 days, 8:00:00 \n",
      " 7 일이내 연속 발생건수:  0\n",
      "충청남도.당진시 과  충청남도.천안시 의 평균 시간차:  58 days, 8:00:00 \n",
      " 7 일이내 연속 발생건수:  0\n",
      "충청남도.계룡시 과  충청남도.천안시 의 평균 시간차:  20 days, 0:00:00 \n",
      " 7 일이내 연속 발생건수:  0\n",
      "충청남도.공주시 과  충청남도.천안시 의 평균 시간차:  10 days, 12:00:00 \n",
      " 7 일이내 연속 발생건수:  1\n",
      "충청남도.금산군 과  충청남도.천안시 의 평균 시간차:  26 days, 0:00:00 \n",
      " 7 일이내 연속 발생건수:  0\n",
      "충청남도.부여군 과  충청남도.천안시 의 평균 시간차:  31 days, 20:00:00 \n",
      " 7 일이내 연속 발생건수:  2\n",
      "충청남도.서산시 과  충청남도.천안시 의 평균 시간차:  19 days, 6:51:25.714286 \n",
      " 7 일이내 연속 발생건수:  2\n",
      "충청남도.서천군 과  충청남도.천안시 의 평균 시간차:  16 days, 8:00:00 \n",
      " 7 일이내 연속 발생건수:  1\n",
      "충청남도.아산시 과  충청남도.서산시 의 평균 시간차:  46 days, 0:00:00 \n",
      " 7 일이내 연속 발생건수:  1\n"
     ]
    }
   ],
   "source": [
    "print('-----천안시-----')\n",
    "compare(df_ccnam, '충청남도.아산시', '충청남도.천안시')\n",
    "compare(df_ccnam, '충청남도.청양군', '충청남도.천안시')\n",
    "compare(df_ccnam, '충청남도.당진시', '충청남도.천안시')\n",
    "compare(df_ccnam, '충청남도.계룡시', '충청남도.천안시')\n",
    "compare(df_ccnam, '충청남도.공주시', '충청남도.천안시')\n",
    "compare(df_ccnam, '충청남도.금산군', '충청남도.천안시')\n",
    "compare(df_ccnam, '충청남도.부여군', '충청남도.천안시')\n",
    "compare(df_ccnam, '충청남도.서산시', '충청남도.천안시')\n",
    "compare(df_ccnam, '충청남도.서천군', '충청남도.천안시')\n",
    "#그나마 연결되는게 천안시, 공주시, 서천군, 서산시이다. 그마저도 데이터베이스가 너무 없다.\n",
    "#천안시, 공주시, 서천군, 서산시는 충북의 양극들이다. 양극들이 그나마 동향이 비슷하다면 전체가 비슷하다고 결론지을 수 있다고 본다. \n",
    "#데이터베이스가 너무 없기에 그냥 충청남도는 하나로 본다. "
   ]
  },
  {
   "cell_type": "markdown",
   "metadata": {
    "nteract": {
     "transient": {
      "deleting": false
     }
    }
   },
   "source": [
    "# 충청북도 "
   ]
  },
  {
   "cell_type": "code",
   "execution_count": 59,
   "metadata": {},
   "outputs": [
    {
     "name": "stderr",
     "output_type": "stream",
     "text": [
      "C:\\Users\\localadmin\\AppData\\Local\\Temp\\ipykernel_8916\\625444845.py:8: SettingWithCopyWarning: \n",
      "A value is trying to be set on a copy of a slice from a DataFrame\n",
      "\n",
      "See the caveats in the documentation: https://pandas.pydata.org/pandas-docs/stable/user_guide/indexing.html#returning-a-view-versus-a-copy\n",
      "  df[col][i]=df[col][i]+old_df.num[j]\n"
     ]
    }
   ],
   "source": [
    "df_ccbuk=reform(df_ccbuk, ccbuk, dates)\n",
    "df_ccbuk.to_csv(\"C:/Users/localadmin/Desktop/data/eda data/df_ccbuk.csv\", encoding='utf-8-sig')"
   ]
  },
  {
   "cell_type": "code",
   "execution_count": 528,
   "metadata": {
    "gather": {
     "logged": 1665883147114
    },
    "jupyter": {
     "outputs_hidden": false,
     "source_hidden": false
    },
    "nteract": {
     "transient": {
      "deleting": false
     }
    }
   },
   "outputs": [
    {
     "name": "stderr",
     "output_type": "stream",
     "text": [
      "/tmp/ipykernel_653992/869532764.py:8: SettingWithCopyWarning: \n",
      "A value is trying to be set on a copy of a slice from a DataFrame\n",
      "\n",
      "See the caveats in the documentation: https://pandas.pydata.org/pandas-docs/stable/user_guide/indexing.html#returning-a-view-versus-a-copy\n",
      "  df[col][i]=df[col][i]+old_df.num[j]\n"
     ]
    },
    {
     "name": "stdout",
     "output_type": "stream",
     "text": [
      "남은 지역들 중 감염개체 발생건수가 가장 많은 지역:  충청북도.충주시\n",
      "충청북도.괴산군 와  충청북도.충주시 의 동적시간와핑 손실:  208.933\n",
      "충청북도.단양군 와  충청북도.충주시 의 동적시간와핑 손실:  378.941\n",
      "충청북도.보은군 와  충청북도.충주시 의 동적시간와핑 손실:  145.148\n",
      "충청북도.영동군 와  충청북도.충주시 의 동적시간와핑 손실:  300.217\n",
      "충청북도.옥천군 와  충청북도.충주시 의 동적시간와핑 손실:  349.243\n",
      "충청북도.음성군 와  충청북도.충주시 의 동적시간와핑 손실:  176.028\n",
      "충청북도.제천시 와  충청북도.충주시 의 동적시간와핑 손실:  368.308\n",
      "충청북도.증평군 와  충청북도.충주시 의 동적시간와핑 손실:  385.142\n",
      "충청북도.진천군 와  충청북도.충주시 의 동적시간와핑 손실:  146.089\n",
      "충청북도.청주시 와  충청북도.충주시 의 동적시간와핑 손실:  350.0\n",
      "자기자신 계산\n",
      "충청북도.괴산군\n",
      "충청북도.보은군\n",
      "충청북도.음성군\n",
      "충청북도.진천군\n",
      "충청북도.충주시 과 같은 범주로 묶인 지역들:  ['충청북도.괴산군', '충청북도.보은군', '충청북도.음성군', '충청북도.진천군']\n",
      "남은 지역들 중 감염개체 발생건수가 가장 많은 지역:  충청북도.영동군\n",
      "충청북도.제천시 와  충청북도.영동군 의 동적시간와핑 손실:  86.735\n",
      "충청북도.단양군 와  충청북도.영동군 의 동적시간와핑 손실:  93.936\n",
      "자기자신 계산\n",
      "충청북도.청주시 와  충청북도.영동군 의 동적시간와핑 손실:  69.253\n",
      "충청북도.옥천군 와  충청북도.영동군 의 동적시간와핑 손실:  74.411\n",
      "충청북도.증평군 와  충청북도.영동군 의 동적시간와핑 손실:  100.96\n",
      "충청북도.청주시\n",
      "충청북도.옥천군\n",
      "충청북도.영동군 과 같은 범주로 묶인 지역들:  ['충청북도.청주시', '충청북도.옥천군']\n",
      "남은 지역들:  ['충청북도.증평군', '충청북도.제천시', '충청북도.단양군']\n"
     ]
    }
   ],
   "source": [
    "\n",
    "division_ccbuk=dtw_function(df_ccbuk)"
   ]
  },
  {
   "cell_type": "code",
   "execution_count": 529,
   "metadata": {
    "gather": {
     "logged": 1665883645216
    },
    "jupyter": {
     "outputs_hidden": false,
     "source_hidden": false
    },
    "nteract": {
     "transient": {
      "deleting": false
     }
    }
   },
   "outputs": [
    {
     "data": {
      "text/plain": [
       "충청북도.충주시    33\n",
       "충청북도.괴산군    14\n",
       "충청북도.단양군    13\n",
       "충청북도.제천시    10\n",
       "충청북도.청주시     8\n",
       "충청북도.음성군     6\n",
       "충청북도.보은군     3\n",
       "충청북도.영동군     3\n",
       "충청북도.옥천군     2\n",
       "충청북도.진천군     1\n",
       "충청북도.증평군     1\n",
       "Name: second_div, dtype: int64"
      ]
     },
     "execution_count": 529,
     "metadata": {},
     "output_type": "execute_result"
    }
   ],
   "source": [
    "ccbuk.second_div.value_counts()"
   ]
  },
  {
   "cell_type": "markdown",
   "metadata": {},
   "source": [
    "## 정성평가"
   ]
  },
  {
   "cell_type": "code",
   "execution_count": 704,
   "metadata": {
    "gather": {
     "logged": 1665912995150
    },
    "jupyter": {
     "outputs_hidden": false,
     "source_hidden": false
    },
    "nteract": {
     "transient": {
      "deleting": false
     }
    }
   },
   "outputs": [
    {
     "name": "stdout",
     "output_type": "stream",
     "text": [
      "충청북도.제천시 과  충청북도.단양군 의 평균 시간차:  149 days, 14:24:00 \n",
      " 7 일이내 연속 발생건수:  3\n",
      "충청북도.청주시 과  충청북도.충주시 의 평균 시간차:  32 days, 3:00:00 \n",
      " 7 일이내 연속 발생건수:  3\n",
      "충청북도.괴산군 과  충청북도.충주시 의 평균 시간차:  18 days, 12:55:23.076923 \n",
      " 7 일이내 연속 발생건수:  6\n",
      "충청북도.음성군 과  충청북도.충주시 의 평균 시간차:  35 days, 20:00:00 \n",
      " 7 일이내 연속 발생건수:  0\n",
      "충청북도.진천군 과  충청북도.충주시 의 평균 시간차:  7 days, 0:00:00 \n",
      " 7 일이내 연속 발생건수:  1\n",
      "충청북도.보은군 과  충청북도.충주시 의 평균 시간차:  44 days, 8:00:00 \n",
      " 7 일이내 연속 발생건수:  0\n",
      "충청북도.영동군 과  충청북도.청주시 의 평균 시간차:  34 days, 0:00:00 \n",
      " 7 일이내 연속 발생건수:  2\n",
      "충청북도.영동군 과  충청북도.충주시 의 평균 시간차:  12 days, 8:00:00 \n",
      " 7 일이내 연속 발생건수:  1\n",
      "충청북도.제천시 과  충청북도.충주시 의 평균 시간차:  17 days, 12:00:00 \n",
      " 7 일이내 연속 발생건수:  2\n",
      "충청북도.옥천군 과  충청북도.청주시 의 평균 시간차:  398 days, 12:00:00 \n",
      " 7 일이내 연속 발생건수:  0\n"
     ]
    }
   ],
   "source": [
    "#단양 제천\n",
    "compare(df_ccbuk, '충청북도.제천시', '충청북도.단양군')\n",
    "compare(df_ccbuk, '충청북도.청주시', '충청북도.충주시')\n",
    "compare(df_ccbuk, '충청북도.괴산군', '충청북도.충주시')\n",
    "compare(df_ccbuk, '충청북도.음성군', '충청북도.충주시')\n",
    "compare(df_ccbuk, '충청북도.진천군', '충청북도.충주시')\n",
    "compare(df_ccbuk, '충청북도.보은군', '충청북도.충주시')\n",
    "\n",
    "compare(df_ccbuk, '충청북도.영동군', '충청북도.청주시')\n",
    "compare(df_ccbuk, '충청북도.영동군', '충청북도.충주시')\n",
    "compare(df_ccbuk, '충청북도.제천시', '충청북도.충주시')\n",
    "compare(df_ccbuk, '충청북도.옥천군', '충청북도.청주시')\n"
   ]
  },
  {
   "cell_type": "markdown",
   "metadata": {},
   "source": [
    "# 제주도\n",
    "서귀포시와 제주시 두 군데밖에 없으며 발생건수가 적어서 편의상 같은 지역으로 묶는다."
   ]
  },
  {
   "cell_type": "code",
   "execution_count": 60,
   "metadata": {},
   "outputs": [
    {
     "name": "stderr",
     "output_type": "stream",
     "text": [
      "C:\\Users\\localadmin\\AppData\\Local\\Temp\\ipykernel_8916\\625444845.py:8: SettingWithCopyWarning: \n",
      "A value is trying to be set on a copy of a slice from a DataFrame\n",
      "\n",
      "See the caveats in the documentation: https://pandas.pydata.org/pandas-docs/stable/user_guide/indexing.html#returning-a-view-versus-a-copy\n",
      "  df[col][i]=df[col][i]+old_df.num[j]\n"
     ]
    }
   ],
   "source": [
    "dfjeju=reform(df_jeju, jeju, dates)\n",
    "df_jeju.to_csv(\"C:/Users/localadmin/Desktop/data/eda data/df_jeju.csv\", encoding='utf-8-sig')"
   ]
  },
  {
   "cell_type": "markdown",
   "metadata": {
    "nteract": {
     "transient": {
      "deleting": false
     }
    }
   },
   "source": [
    "# 최종 지역 분류 (16개)\n",
    "* **강원도**\n",
    "- 삼척시, 강릉시, 동해시, 정선군, 태백시 : 강원1\n",
    "- 홍천군, 인제군, 평창군, 횡성군, 원주시 : 강원2\n",
    "- 화천군, 양구군, 춘천시 : 강원3\n",
    " <br>\n",
    "\n",
    "* **경기도**\n",
    "- 양평군, 가평군, 남양주시 : 경기1\n",
    "- 이천시, 안성시, 여주시, 성남시 : 경기2\n",
    "- 고양시, 연천군, 파주시 : 경기3\n",
    "<br>\n",
    "* **경상남도**\n",
    "- 산청군, 진주시, 합천군, 하동군, 의령군, 함양군, 거창군:경남1\n",
    "- 창원시, 함안군, 김해시:경남2 \n",
    "<br>\n",
    "* **경상북도**\n",
    "- 영덕군, 김천시, 문경시, 상주시, 영주시, 청송군, 봉화군, 안동시, 의성군, 영천시, 영양군, 예천군: 경북1\n",
    "- 포항시, 경주시: 경북2 \n",
    "<br>\n",
    "* **전라남도**\n",
    "- 보성군, 순천시, 곡성군, 구례군, 화순군, 고흥군, 광양시, 함평군: 전남1\n",
    "- 완도군: 전남2\n",
    "<br>\n",
    "* **전라북도**(임실군, 남원시 중심)\n",
    "- 전체를 하나로 본다.\n",
    "<br>\n",
    "* **충청남도**(천안시 중심\n",
    "- 하나로 본다.\n",
    "<br>\n",
    "* **충청북도** (충추시 중심)\n",
    "- 하나로 본다. \n",
    "<br>\n",
    "* **제주특별자치시**-하나로 본다.\n",
    "<br>\n",
    "* 부산광역시, 대구광역시, 인천광역시, 울산광역시, 광주광역시, 세종과 대전은 관측치가 너무 적어서 분석에서 제외한다."
   ]
  },
  {
   "cell_type": "code",
   "execution_count": 53,
   "metadata": {
    "gather": {
     "logged": 1666100483626
    },
    "jupyter": {
     "outputs_hidden": false,
     "source_hidden": false
    },
    "nteract": {
     "transient": {
      "deleting": false
     }
    }
   },
   "outputs": [
    {
     "data": {
      "text/plain": [
       "1850"
      ]
     },
     "execution_count": 53,
     "metadata": {},
     "output_type": "execute_result"
    }
   ],
   "source": [
    "df_jbuk.shape\n",
    "len(dates)"
   ]
  }
 ],
 "metadata": {
  "kernel_info": {
   "name": "python38-azureml"
  },
  "kernelspec": {
   "display_name": "Python 3 (ipykernel)",
   "language": "python",
   "name": "python3"
  },
  "language_info": {
   "codemirror_mode": {
    "name": "ipython",
    "version": 3
   },
   "file_extension": ".py",
   "mimetype": "text/x-python",
   "name": "python",
   "nbconvert_exporter": "python",
   "pygments_lexer": "ipython3",
   "version": "3.9.13"
  },
  "microsoft": {
   "host": {
    "AzureML": {
     "notebookHasBeenCompleted": true
    }
   }
  },
  "nteract": {
   "version": "nteract-front-end@1.0.0"
  }
 },
 "nbformat": 4,
 "nbformat_minor": 2
}
